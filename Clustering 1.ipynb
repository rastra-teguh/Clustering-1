{
 "cells": [
  {
   "cell_type": "markdown",
   "metadata": {},
   "source": [
    "# Understanding the Data"
   ]
  },
  {
   "cell_type": "markdown",
   "metadata": {},
   "source": [
    "I am going to utilize machine learning into a Vidio data. The data consists 40 indexes. The amount of total elements are 742582. The dataset that I am using is from Vidio sample dataset. The process that I am going to apply is from cleansing until applying machine learning. The main purpose of the Data is for considering the viewer contents. "
   ]
  },
  {
   "cell_type": "code",
   "execution_count": 1,
   "metadata": {},
   "outputs": [
    {
     "name": "stdout",
     "output_type": "stream",
     "text": [
      "Requirement already satisfied: shutup in c:\\users\\lenovo\\anaconda3\\lib\\site-packages (0.1.3)\n",
      "Note: you may need to restart the kernel to use updated packages.\n"
     ]
    }
   ],
   "source": [
    "pip install shutup"
   ]
  },
  {
   "cell_type": "code",
   "execution_count": 2,
   "metadata": {},
   "outputs": [],
   "source": [
    "# First of all import all the packages that I need \n",
    "import numpy as np\n",
    "import pandas as pd\n",
    "import matplotlib.pyplot as plt\n",
    "import seaborn as sns\n",
    "import warnings\n",
    "warnings.filterwarnings(\"ignore\")\n",
    "import warnings\n",
    "warnings.filterwarnings(\"ignore\")"
   ]
  },
  {
   "cell_type": "code",
   "execution_count": 3,
   "metadata": {},
   "outputs": [
    {
     "name": "stderr",
     "output_type": "stream",
     "text": [
      "b'Skipping line 7655: expected 41 fields, saw 42\\n'\n",
      "b'Skipping line 28027: expected 41 fields, saw 49\\nSkipping line 29868: expected 41 fields, saw 42\\n'\n",
      "b'Skipping line 41317: expected 41 fields, saw 49\\n'\n",
      "b'Skipping line 50334: expected 41 fields, saw 42\\nSkipping line 57183: expected 41 fields, saw 42\\nSkipping line 61465: expected 41 fields, saw 49\\n'\n",
      "b'Skipping line 68522: expected 41 fields, saw 49\\nSkipping line 74582: expected 41 fields, saw 42\\n'\n",
      "b'Skipping line 83509: expected 41 fields, saw 42\\nSkipping line 94944: expected 41 fields, saw 42\\n'\n",
      "b'Skipping line 130829: expected 41 fields, saw 42\\n'\n",
      "b'Skipping line 163627: expected 41 fields, saw 42\\n'\n",
      "b'Skipping line 185137: expected 41 fields, saw 42\\n'\n",
      "b'Skipping line 197897: expected 41 fields, saw 42\\nSkipping line 206057: expected 41 fields, saw 42\\n'\n",
      "b'Skipping line 213623: expected 41 fields, saw 42\\nSkipping line 216084: expected 41 fields, saw 42\\nSkipping line 227679: expected 41 fields, saw 49\\n'\n",
      "b'Skipping line 251548: expected 41 fields, saw 42\\nSkipping line 261391: expected 41 fields, saw 42\\nSkipping line 262030: expected 41 fields, saw 42\\n'\n",
      "b'Skipping line 264908: expected 41 fields, saw 42\\n'\n",
      "b'Skipping line 287859: expected 41 fields, saw 42\\n'\n",
      "b'Skipping line 299433: expected 41 fields, saw 42\\n'\n",
      "b'Skipping line 311877: expected 41 fields, saw 42\\nSkipping line 313477: expected 41 fields, saw 42\\nSkipping line 322023: expected 41 fields, saw 42\\nSkipping line 324768: expected 41 fields, saw 42\\n'\n",
      "b'Skipping line 337682: expected 41 fields, saw 42\\nSkipping line 338488: expected 41 fields, saw 42\\nSkipping line 339520: expected 41 fields, saw 42\\n'\n",
      "b'Skipping line 349423: expected 41 fields, saw 42\\n'\n",
      "b'Skipping line 369734: expected 41 fields, saw 49\\n'\n",
      "b'Skipping line 378702: expected 41 fields, saw 45\\n'\n",
      "b'Skipping line 418657: expected 41 fields, saw 49\\n'\n",
      "b'Skipping line 449543: expected 41 fields, saw 42\\n'\n",
      "b'Skipping line 461649: expected 41 fields, saw 49\\nSkipping line 466375: expected 41 fields, saw 49\\nSkipping line 473517: expected 41 fields, saw 49\\n'\n",
      "b'Skipping line 475529: expected 41 fields, saw 49\\n'\n",
      "b'Skipping line 492187: expected 41 fields, saw 42\\nSkipping line 496866: expected 41 fields, saw 42\\n'\n",
      "b'Skipping line 534249: expected 41 fields, saw 42\\nSkipping line 539042: expected 41 fields, saw 49\\n'\n",
      "b'Skipping line 562932: expected 41 fields, saw 42\\nSkipping line 563198: expected 41 fields, saw 42\\nSkipping line 566240: expected 41 fields, saw 49\\nSkipping line 571182: expected 41 fields, saw 42\\n'\n",
      "b'Skipping line 583341: expected 41 fields, saw 42\\nSkipping line 588749: expected 41 fields, saw 42\\n'\n",
      "b'Skipping line 591549: expected 41 fields, saw 42\\nSkipping line 591893: expected 41 fields, saw 49\\nSkipping line 595608: expected 41 fields, saw 42\\nSkipping line 596193: expected 41 fields, saw 42\\nSkipping line 596194: expected 41 fields, saw 42\\nSkipping line 601182: expected 41 fields, saw 57\\n'\n",
      "b'Skipping line 623671: expected 41 fields, saw 42\\nSkipping line 625063: expected 41 fields, saw 42\\nSkipping line 633708: expected 41 fields, saw 42\\nSkipping line 636424: expected 41 fields, saw 42\\n'\n",
      "b'Skipping line 642211: expected 41 fields, saw 42\\nSkipping line 644971: expected 41 fields, saw 42\\nSkipping line 649294: expected 41 fields, saw 42\\n'\n",
      "b'Skipping line 662233: expected 41 fields, saw 43\\n'\n",
      "b'Skipping line 688315: expected 41 fields, saw 42\\nSkipping line 697611: expected 41 fields, saw 42\\nSkipping line 700575: expected 41 fields, saw 42\\nSkipping line 702178: expected 41 fields, saw 49\\n'\n",
      "b'Skipping line 705345: expected 41 fields, saw 42\\n'\n"
     ]
    }
   ],
   "source": [
    "# Next step is uploading the dataset\n",
    "df= pd.read_csv('C:/Users/Lenovo/Music/vidio/sample.csv', sep= ',',error_bad_lines=False)"
   ]
  },
  {
   "cell_type": "code",
   "execution_count": 4,
   "metadata": {},
   "outputs": [
    {
     "data": {
      "text/html": [
       "<div>\n",
       "<style scoped>\n",
       "    .dataframe tbody tr th:only-of-type {\n",
       "        vertical-align: middle;\n",
       "    }\n",
       "\n",
       "    .dataframe tbody tr th {\n",
       "        vertical-align: top;\n",
       "    }\n",
       "\n",
       "    .dataframe thead th {\n",
       "        text-align: right;\n",
       "    }\n",
       "</style>\n",
       "<table border=\"1\" class=\"dataframe\">\n",
       "  <thead>\n",
       "    <tr style=\"text-align: right;\">\n",
       "      <th></th>\n",
       "      <th>hash_content_id</th>\n",
       "      <th>hash_play_id</th>\n",
       "      <th>hash_visit_id</th>\n",
       "      <th>hash_watcher_id</th>\n",
       "      <th>hash_film_id</th>\n",
       "      <th>hash_event_id</th>\n",
       "      <th>is_login</th>\n",
       "      <th>playback_location</th>\n",
       "      <th>platform</th>\n",
       "      <th>play_time</th>\n",
       "      <th>...</th>\n",
       "      <th>app_version</th>\n",
       "      <th>city</th>\n",
       "      <th>play_duration</th>\n",
       "      <th>content_type</th>\n",
       "      <th>stream_type</th>\n",
       "      <th>title</th>\n",
       "      <th>category_name</th>\n",
       "      <th>film_title</th>\n",
       "      <th>season_name</th>\n",
       "      <th>genre_name</th>\n",
       "    </tr>\n",
       "  </thead>\n",
       "  <tbody>\n",
       "    <tr>\n",
       "      <th>0</th>\n",
       "      <td>003f6dad4ab48a4e39ea262b19e3b42a4b53c2175078b3...</td>\n",
       "      <td>515dd4d7af23ae9ef5a2455bc97ee765fe86224ebaca71...</td>\n",
       "      <td>ed8d97adbba52562575973553003d9a13b103bc4693a6c...</td>\n",
       "      <td>3ba64f349972d4c7c05eb08e6b91db156a91af555ded6f...</td>\n",
       "      <td>NaN</td>\n",
       "      <td>175c473e6bbf67c337bdbd14c9dbdf01c627bfe5af17c1...</td>\n",
       "      <td>True</td>\n",
       "      <td>direct</td>\n",
       "      <td>tv-android</td>\n",
       "      <td>2020-02-15T12:07:00.000Z</td>\n",
       "      <td>...</td>\n",
       "      <td>1.11.0 (50)</td>\n",
       "      <td>NaN</td>\n",
       "      <td>1263</td>\n",
       "      <td>vod</td>\n",
       "      <td>NaN</td>\n",
       "      <td>FTV SCTV - Kecubit Cinta Sahabat Chantiq</td>\n",
       "      <td>Movies</td>\n",
       "      <td>NaN</td>\n",
       "      <td>NaN</td>\n",
       "      <td>NaN</td>\n",
       "    </tr>\n",
       "    <tr>\n",
       "      <th>1</th>\n",
       "      <td>0079c67ae8c7f6cbd44768f1988196c137326f3058d995...</td>\n",
       "      <td>047f7b21bcb1a57119229958b11abe364ce1a279f8ae00...</td>\n",
       "      <td>88a404df574ba3c637bb99e94a2e51b16114f5da6f99cd...</td>\n",
       "      <td>36fd7b04f88ef3d6f16326ae4a39fcf2e4b1dec052919c...</td>\n",
       "      <td>NaN</td>\n",
       "      <td>6f8d1372d0128e141c7ef87649d9ec46328d327c2a21d4...</td>\n",
       "      <td>False</td>\n",
       "      <td>embed</td>\n",
       "      <td>web-mobile</td>\n",
       "      <td>2020-02-14T18:37:52.000Z</td>\n",
       "      <td>...</td>\n",
       "      <td>NaN</td>\n",
       "      <td>NaN</td>\n",
       "      <td>0</td>\n",
       "      <td>vod</td>\n",
       "      <td>NaN</td>\n",
       "      <td>Viral Seorang Siswi Dibully di Kelas, Gubernur...</td>\n",
       "      <td>News</td>\n",
       "      <td>NaN</td>\n",
       "      <td>NaN</td>\n",
       "      <td>NaN</td>\n",
       "    </tr>\n",
       "    <tr>\n",
       "      <th>2</th>\n",
       "      <td>0079c67ae8c7f6cbd44768f1988196c137326f3058d995...</td>\n",
       "      <td>2623b2970635a15f1cf12bf9aa1e4d545135593e6a860c...</td>\n",
       "      <td>24abc04f114c9cb0c2087568093a909f04b3a567041fff...</td>\n",
       "      <td>4906987a7a6c3e27895e1adfd200d38e4f4fd87eb9ce96...</td>\n",
       "      <td>NaN</td>\n",
       "      <td>e73122fb4da263f0825c2ae5ac5c5a18da3a45c44b49e6...</td>\n",
       "      <td>False</td>\n",
       "      <td>embed</td>\n",
       "      <td>web-mobile</td>\n",
       "      <td>2020-02-15T11:58:24.000Z</td>\n",
       "      <td>...</td>\n",
       "      <td>NaN</td>\n",
       "      <td>NaN</td>\n",
       "      <td>8</td>\n",
       "      <td>vod</td>\n",
       "      <td>NaN</td>\n",
       "      <td>Viral Seorang Siswi Dibully di Kelas, Gubernur...</td>\n",
       "      <td>News</td>\n",
       "      <td>NaN</td>\n",
       "      <td>NaN</td>\n",
       "      <td>NaN</td>\n",
       "    </tr>\n",
       "  </tbody>\n",
       "</table>\n",
       "<p>3 rows × 41 columns</p>\n",
       "</div>"
      ],
      "text/plain": [
       "                                     hash_content_id  \\\n",
       "0  003f6dad4ab48a4e39ea262b19e3b42a4b53c2175078b3...   \n",
       "1  0079c67ae8c7f6cbd44768f1988196c137326f3058d995...   \n",
       "2  0079c67ae8c7f6cbd44768f1988196c137326f3058d995...   \n",
       "\n",
       "                                        hash_play_id  \\\n",
       "0  515dd4d7af23ae9ef5a2455bc97ee765fe86224ebaca71...   \n",
       "1  047f7b21bcb1a57119229958b11abe364ce1a279f8ae00...   \n",
       "2  2623b2970635a15f1cf12bf9aa1e4d545135593e6a860c...   \n",
       "\n",
       "                                       hash_visit_id  \\\n",
       "0  ed8d97adbba52562575973553003d9a13b103bc4693a6c...   \n",
       "1  88a404df574ba3c637bb99e94a2e51b16114f5da6f99cd...   \n",
       "2  24abc04f114c9cb0c2087568093a909f04b3a567041fff...   \n",
       "\n",
       "                                     hash_watcher_id hash_film_id  \\\n",
       "0  3ba64f349972d4c7c05eb08e6b91db156a91af555ded6f...          NaN   \n",
       "1  36fd7b04f88ef3d6f16326ae4a39fcf2e4b1dec052919c...          NaN   \n",
       "2  4906987a7a6c3e27895e1adfd200d38e4f4fd87eb9ce96...          NaN   \n",
       "\n",
       "                                       hash_event_id  is_login  \\\n",
       "0  175c473e6bbf67c337bdbd14c9dbdf01c627bfe5af17c1...      True   \n",
       "1  6f8d1372d0128e141c7ef87649d9ec46328d327c2a21d4...     False   \n",
       "2  e73122fb4da263f0825c2ae5ac5c5a18da3a45c44b49e6...     False   \n",
       "\n",
       "  playback_location    platform                 play_time  ...  app_version  \\\n",
       "0            direct  tv-android  2020-02-15T12:07:00.000Z  ...  1.11.0 (50)   \n",
       "1             embed  web-mobile  2020-02-14T18:37:52.000Z  ...          NaN   \n",
       "2             embed  web-mobile  2020-02-15T11:58:24.000Z  ...          NaN   \n",
       "\n",
       "  city  play_duration content_type  stream_type  \\\n",
       "0  NaN           1263          vod          NaN   \n",
       "1  NaN              0          vod          NaN   \n",
       "2  NaN              8          vod          NaN   \n",
       "\n",
       "                                               title category_name film_title  \\\n",
       "0           FTV SCTV - Kecubit Cinta Sahabat Chantiq        Movies        NaN   \n",
       "1  Viral Seorang Siswi Dibully di Kelas, Gubernur...          News        NaN   \n",
       "2  Viral Seorang Siswi Dibully di Kelas, Gubernur...          News        NaN   \n",
       "\n",
       "  season_name genre_name  \n",
       "0         NaN        NaN  \n",
       "1         NaN        NaN  \n",
       "2         NaN        NaN  \n",
       "\n",
       "[3 rows x 41 columns]"
      ]
     },
     "execution_count": 4,
     "metadata": {},
     "output_type": "execute_result"
    }
   ],
   "source": [
    "df.head(3)"
   ]
  },
  {
   "cell_type": "markdown",
   "metadata": {},
   "source": [
    "The dataset consists of 41 columns. Each row consists specific content_id. Befor going to the cleansing I will consisder which parameter is going to be predicted. The first of all I have to consider wether it is cateogircal or numerical"
   ]
  },
  {
   "cell_type": "code",
   "execution_count": 5,
   "metadata": {},
   "outputs": [
    {
     "data": {
      "text/plain": [
       "{'hash_content_id': 'cat',\n",
       " 'hash_play_id': 'cat',\n",
       " 'hash_visit_id': 'cat',\n",
       " 'hash_watcher_id': 'cat',\n",
       " 'hash_film_id': 'cat',\n",
       " 'hash_event_id': 'cat',\n",
       " 'is_login': 'cat',\n",
       " 'playback_location': 'cat',\n",
       " 'platform': 'cat',\n",
       " 'play_time': 'cat',\n",
       " 'end_time': 'cat',\n",
       " 'referrer': 'cat',\n",
       " 'average_bitrate': 'num',\n",
       " 'bitrate_range': 'cat',\n",
       " 'total_bytes': 'num',\n",
       " 'buffer_duration': 'num',\n",
       " 'referrer_group': 'cat',\n",
       " 'completed': 'cat',\n",
       " 'utm_source': 'cat',\n",
       " 'utm_medium': 'cat',\n",
       " 'utm_campaign': 'cat',\n",
       " 'player_name': 'cat',\n",
       " 'has_ad': 'cat',\n",
       " 'flash_version': 'cat',\n",
       " 'os_name': 'cat',\n",
       " 'os_version': 'cat',\n",
       " 'browser_name': 'cat',\n",
       " 'browser_version': 'cat',\n",
       " 'app_name': 'cat',\n",
       " 'autoplay': 'cat',\n",
       " 'is_premium': 'cat',\n",
       " 'app_version': 'cat',\n",
       " 'city': 'cat',\n",
       " 'play_duration': 'num',\n",
       " 'content_type': 'cat',\n",
       " 'stream_type': 'cat',\n",
       " 'title': 'cat',\n",
       " 'category_name': 'cat',\n",
       " 'film_title': 'cat',\n",
       " 'season_name': 'cat',\n",
       " 'genre_name': 'cat'}"
      ]
     },
     "execution_count": 5,
     "metadata": {},
     "output_type": "execute_result"
    }
   ],
   "source": [
    "def utils_recognize_type(df, col, max_cat=20):\n",
    "    if (df[col].dtype == \"O\") | (df[col].nunique() < max_cat):\n",
    "        return \"cat\"\n",
    "    else:\n",
    "        return \"num\"\n",
    "dic_cols = {col:utils_recognize_type(df, col, max_cat=20) for col in df.columns}\n",
    "dic_cols"
   ]
  },
  {
   "cell_type": "markdown",
   "metadata": {},
   "source": [
    "In the function I can determine wether it is categorical or numerical data. The purpose is considering which data type is going to be modelled."
   ]
  },
  {
   "cell_type": "code",
   "execution_count": 6,
   "metadata": {
    "scrolled": true
   },
   "outputs": [
    {
     "data": {
      "image/png": "[encoded data removed]",
      "text/plain": [
       "<Figure size 432x288 with 1 Axes>"
      ]
     },
     "metadata": {
      "needs_background": "light"
     },
     "output_type": "display_data"
    },
    {
     "name": "stdout",
     "output_type": "stream",
     "text": [
      "\u001b[1;37;40m Categerocial  \u001b[1;30;41m Numeric  \u001b[1;30;47m NaN \n"
     ]
    }
   ],
   "source": [
    "heatmap = df.isnull()\n",
    "for k,v in dic_cols.items():\n",
    "    if v == \"num\":\n",
    "       heatmap[k] = heatmap[k].apply(lambda x: 0.5 if x is False else 1)\n",
    "    else:\n",
    "       heatmap[k] = heatmap[k].apply(lambda x: 0 if x is False else 1)\n",
    "sns.heatmap(heatmap, cbar=False).set_title('Dataset Overview')\n",
    "plt.show()\n",
    "print(\"\\033[1;37;40m Categerocial \", \"\\033[1;30;41m Numeric \", \"\\033[1;30;47m NaN \")"
   ]
  },
  {
   "cell_type": "markdown",
   "metadata": {},
   "source": [
    "From the data, We already check the categorical and numeric aspect in the Dataset. We also detects there are NaN values in the data. The next step is cleansing the data and consider which data is going to used. In the dataset I consider to go with view times, content_type and play_duration"
   ]
  },
  {
   "cell_type": "markdown",
   "metadata": {},
   "source": []
  },
  {
   "cell_type": "markdown",
   "metadata": {},
   "source": [
    "The Data is need to be cleanse before starting with the EDA and visualization. The first things to do is checking the NaN."
   ]
  },
  {
   "cell_type": "code",
   "execution_count": 7,
   "metadata": {},
   "outputs": [
    {
     "data": {
      "text/html": [
       "<div>\n",
       "<style scoped>\n",
       "    .dataframe tbody tr th:only-of-type {\n",
       "        vertical-align: middle;\n",
       "    }\n",
       "\n",
       "    .dataframe tbody tr th {\n",
       "        vertical-align: top;\n",
       "    }\n",
       "\n",
       "    .dataframe thead th {\n",
       "        text-align: right;\n",
       "    }\n",
       "</style>\n",
       "<table border=\"1\" class=\"dataframe\">\n",
       "  <thead>\n",
       "    <tr style=\"text-align: right;\">\n",
       "      <th></th>\n",
       "      <th>hash_content_id</th>\n",
       "      <th>hash_play_id</th>\n",
       "      <th>hash_visit_id</th>\n",
       "      <th>hash_watcher_id</th>\n",
       "      <th>hash_film_id</th>\n",
       "      <th>hash_event_id</th>\n",
       "      <th>is_login</th>\n",
       "      <th>playback_location</th>\n",
       "      <th>platform</th>\n",
       "      <th>play_time</th>\n",
       "      <th>...</th>\n",
       "      <th>app_version</th>\n",
       "      <th>city</th>\n",
       "      <th>play_duration</th>\n",
       "      <th>content_type</th>\n",
       "      <th>stream_type</th>\n",
       "      <th>title</th>\n",
       "      <th>category_name</th>\n",
       "      <th>film_title</th>\n",
       "      <th>season_name</th>\n",
       "      <th>genre_name</th>\n",
       "    </tr>\n",
       "  </thead>\n",
       "  <tbody>\n",
       "    <tr>\n",
       "      <th>169</th>\n",
       "      <td>09957ae4dbad578a1982de301abd04ec0937f78aa78c1c...</td>\n",
       "      <td>301c99fe7427924cda2bcc2b75b2fa284bd32cc8bbf360...</td>\n",
       "      <td>114e1ba8db5c4536e60e37dd996ea47c4c49bd39717b20...</td>\n",
       "      <td>5a6cd4d3b0ff67860b30e4fa5cf3de0ab3093c77dd3104...</td>\n",
       "      <td>NaN</td>\n",
       "      <td>0ecba5c9eafab795e1d6c7481803b3e7d56ea8ed2e346d...</td>\n",
       "      <td>False</td>\n",
       "      <td>direct</td>\n",
       "      <td>tv-android</td>\n",
       "      <td>2020-02-14T17:44:17.000Z</td>\n",
       "      <td>...</td>\n",
       "      <td>1.5.0 (28)</td>\n",
       "      <td>NaN</td>\n",
       "      <td>15</td>\n",
       "      <td>livestreaming</td>\n",
       "      <td>TvStream</td>\n",
       "      <td>iNews</td>\n",
       "      <td>NaN</td>\n",
       "      <td>NaN</td>\n",
       "      <td>NaN</td>\n",
       "      <td>NaN</td>\n",
       "    </tr>\n",
       "    <tr>\n",
       "      <th>170</th>\n",
       "      <td>09957ae4dbad578a1982de301abd04ec0937f78aa78c1c...</td>\n",
       "      <td>3e8daddc4e0fa5c389fb2a4f4b64036c4a3da154c042e2...</td>\n",
       "      <td>632ae4bd02a8a3e5c2f7615b91cdfd09585e6af72457e6...</td>\n",
       "      <td>0f14f6fd48c418a9f5f4860ab0ff52334869341b9acec4...</td>\n",
       "      <td>NaN</td>\n",
       "      <td>fcba49bb9659a8e8fecb529fc9d49e2056817daa2a492d...</td>\n",
       "      <td>True</td>\n",
       "      <td>direct</td>\n",
       "      <td>app-android</td>\n",
       "      <td>2020-02-15T12:25:28.000Z</td>\n",
       "      <td>...</td>\n",
       "      <td>4.24.9-403fc76 (3188606)</td>\n",
       "      <td>NaN</td>\n",
       "      <td>180</td>\n",
       "      <td>livestreaming</td>\n",
       "      <td>TvStream</td>\n",
       "      <td>iNews</td>\n",
       "      <td>NaN</td>\n",
       "      <td>NaN</td>\n",
       "      <td>NaN</td>\n",
       "      <td>NaN</td>\n",
       "    </tr>\n",
       "    <tr>\n",
       "      <th>171</th>\n",
       "      <td>09957ae4dbad578a1982de301abd04ec0937f78aa78c1c...</td>\n",
       "      <td>4d2ed0fee254f4014a842c62cce193262735cc645b5256...</td>\n",
       "      <td>4cb09bf1bc79967acb51cc038f094c4418ea9b7c61185b...</td>\n",
       "      <td>e563071189f16bbfffc83c1eeb933b624deab248e70898...</td>\n",
       "      <td>NaN</td>\n",
       "      <td>3a62c8c365d15e51c0cd6d15f098f6eb43ab02ba3fdd70...</td>\n",
       "      <td>True</td>\n",
       "      <td>direct</td>\n",
       "      <td>app-android</td>\n",
       "      <td>2020-02-15T02:36:53.000Z</td>\n",
       "      <td>...</td>\n",
       "      <td>4.23.13-b3b0f90 (3188596)</td>\n",
       "      <td>NaN</td>\n",
       "      <td>15</td>\n",
       "      <td>livestreaming</td>\n",
       "      <td>TvStream</td>\n",
       "      <td>iNews</td>\n",
       "      <td>NaN</td>\n",
       "      <td>NaN</td>\n",
       "      <td>NaN</td>\n",
       "      <td>NaN</td>\n",
       "    </tr>\n",
       "    <tr>\n",
       "      <th>172</th>\n",
       "      <td>09957ae4dbad578a1982de301abd04ec0937f78aa78c1c...</td>\n",
       "      <td>6292683b77dc3751bd708be592014715c3eb6d3dde6a2f...</td>\n",
       "      <td>670d0a8d6903ca86dd9f182ca64e71c8fc6174fcedb600...</td>\n",
       "      <td>232c20714dc190d89ff7210dc80932928180badd11a63e...</td>\n",
       "      <td>NaN</td>\n",
       "      <td>23aa4a9234cf59de2799e9abd206125e74f6bea6b4de3d...</td>\n",
       "      <td>False</td>\n",
       "      <td>direct</td>\n",
       "      <td>web-mobile</td>\n",
       "      <td>2020-02-15T00:50:37.000Z</td>\n",
       "      <td>...</td>\n",
       "      <td>NaN</td>\n",
       "      <td>NaN</td>\n",
       "      <td>0</td>\n",
       "      <td>livestreaming</td>\n",
       "      <td>TvStream</td>\n",
       "      <td>iNews</td>\n",
       "      <td>NaN</td>\n",
       "      <td>NaN</td>\n",
       "      <td>NaN</td>\n",
       "      <td>NaN</td>\n",
       "    </tr>\n",
       "    <tr>\n",
       "      <th>173</th>\n",
       "      <td>09957ae4dbad578a1982de301abd04ec0937f78aa78c1c...</td>\n",
       "      <td>75c85b4a9018aad5480d25bdf10381bde66687f47ebc29...</td>\n",
       "      <td>202eb51230fc9cc655c9cca1279e2cd58b4d5bb7923361...</td>\n",
       "      <td>0fb14d16c38774ad76a0446145cce118211420bd7d75c8...</td>\n",
       "      <td>NaN</td>\n",
       "      <td>fae457782250f264df028e674f6817b932ed611eeeed20...</td>\n",
       "      <td>False</td>\n",
       "      <td>direct</td>\n",
       "      <td>tv-android</td>\n",
       "      <td>2020-02-15T12:03:39.000Z</td>\n",
       "      <td>...</td>\n",
       "      <td>1.16.2 (74)</td>\n",
       "      <td>NaN</td>\n",
       "      <td>0</td>\n",
       "      <td>livestreaming</td>\n",
       "      <td>TvStream</td>\n",
       "      <td>iNews</td>\n",
       "      <td>NaN</td>\n",
       "      <td>NaN</td>\n",
       "      <td>NaN</td>\n",
       "      <td>NaN</td>\n",
       "    </tr>\n",
       "  </tbody>\n",
       "</table>\n",
       "<p>5 rows × 41 columns</p>\n",
       "</div>"
      ],
      "text/plain": [
       "                                       hash_content_id  \\\n",
       "169  09957ae4dbad578a1982de301abd04ec0937f78aa78c1c...   \n",
       "170  09957ae4dbad578a1982de301abd04ec0937f78aa78c1c...   \n",
       "171  09957ae4dbad578a1982de301abd04ec0937f78aa78c1c...   \n",
       "172  09957ae4dbad578a1982de301abd04ec0937f78aa78c1c...   \n",
       "173  09957ae4dbad578a1982de301abd04ec0937f78aa78c1c...   \n",
       "\n",
       "                                          hash_play_id  \\\n",
       "169  301c99fe7427924cda2bcc2b75b2fa284bd32cc8bbf360...   \n",
       "170  3e8daddc4e0fa5c389fb2a4f4b64036c4a3da154c042e2...   \n",
       "171  4d2ed0fee254f4014a842c62cce193262735cc645b5256...   \n",
       "172  6292683b77dc3751bd708be592014715c3eb6d3dde6a2f...   \n",
       "173  75c85b4a9018aad5480d25bdf10381bde66687f47ebc29...   \n",
       "\n",
       "                                         hash_visit_id  \\\n",
       "169  114e1ba8db5c4536e60e37dd996ea47c4c49bd39717b20...   \n",
       "170  632ae4bd02a8a3e5c2f7615b91cdfd09585e6af72457e6...   \n",
       "171  4cb09bf1bc79967acb51cc038f094c4418ea9b7c61185b...   \n",
       "172  670d0a8d6903ca86dd9f182ca64e71c8fc6174fcedb600...   \n",
       "173  202eb51230fc9cc655c9cca1279e2cd58b4d5bb7923361...   \n",
       "\n",
       "                                       hash_watcher_id hash_film_id  \\\n",
       "169  5a6cd4d3b0ff67860b30e4fa5cf3de0ab3093c77dd3104...          NaN   \n",
       "170  0f14f6fd48c418a9f5f4860ab0ff52334869341b9acec4...          NaN   \n",
       "171  e563071189f16bbfffc83c1eeb933b624deab248e70898...          NaN   \n",
       "172  232c20714dc190d89ff7210dc80932928180badd11a63e...          NaN   \n",
       "173  0fb14d16c38774ad76a0446145cce118211420bd7d75c8...          NaN   \n",
       "\n",
       "                                         hash_event_id  is_login  \\\n",
       "169  0ecba5c9eafab795e1d6c7481803b3e7d56ea8ed2e346d...     False   \n",
       "170  fcba49bb9659a8e8fecb529fc9d49e2056817daa2a492d...      True   \n",
       "171  3a62c8c365d15e51c0cd6d15f098f6eb43ab02ba3fdd70...      True   \n",
       "172  23aa4a9234cf59de2799e9abd206125e74f6bea6b4de3d...     False   \n",
       "173  fae457782250f264df028e674f6817b932ed611eeeed20...     False   \n",
       "\n",
       "    playback_location     platform                 play_time  ...  \\\n",
       "169            direct   tv-android  2020-02-14T17:44:17.000Z  ...   \n",
       "170            direct  app-android  2020-02-15T12:25:28.000Z  ...   \n",
       "171            direct  app-android  2020-02-15T02:36:53.000Z  ...   \n",
       "172            direct   web-mobile  2020-02-15T00:50:37.000Z  ...   \n",
       "173            direct   tv-android  2020-02-15T12:03:39.000Z  ...   \n",
       "\n",
       "                   app_version city  play_duration   content_type  \\\n",
       "169                 1.5.0 (28)  NaN             15  livestreaming   \n",
       "170   4.24.9-403fc76 (3188606)  NaN            180  livestreaming   \n",
       "171  4.23.13-b3b0f90 (3188596)  NaN             15  livestreaming   \n",
       "172                        NaN  NaN              0  livestreaming   \n",
       "173                1.16.2 (74)  NaN              0  livestreaming   \n",
       "\n",
       "     stream_type  title category_name film_title season_name genre_name  \n",
       "169     TvStream  iNews           NaN        NaN         NaN        NaN  \n",
       "170     TvStream  iNews           NaN        NaN         NaN        NaN  \n",
       "171     TvStream  iNews           NaN        NaN         NaN        NaN  \n",
       "172     TvStream  iNews           NaN        NaN         NaN        NaN  \n",
       "173     TvStream  iNews           NaN        NaN         NaN        NaN  \n",
       "\n",
       "[5 rows x 41 columns]"
      ]
     },
     "execution_count": 7,
     "metadata": {},
     "output_type": "execute_result"
    }
   ],
   "source": [
    "df.loc[df['category_name'].isnull()].head()\n",
    "#Looking for the NaN Value"
   ]
  },
  {
   "cell_type": "markdown",
   "metadata": {},
   "source": [
    "In this first attempt I want to predict the category_name. category_name is an categorical type of Data which I can make a classification or clustering later. I found that the NaN values in category_name is about the 30% of the total element in data. So I do more exploration and found a Stream_type index that only have 2 elements NaN and Tv_stream. In the end I consider to make partition with the data so I can keep the other dataset for other exploration "
   ]
  },
  {
   "cell_type": "code",
   "execution_count": 8,
   "metadata": {
    "scrolled": true
   },
   "outputs": [
    {
     "data": {
      "text/html": [
       "<div>\n",
       "<style scoped>\n",
       "    .dataframe tbody tr th:only-of-type {\n",
       "        vertical-align: middle;\n",
       "    }\n",
       "\n",
       "    .dataframe tbody tr th {\n",
       "        vertical-align: top;\n",
       "    }\n",
       "\n",
       "    .dataframe thead th {\n",
       "        text-align: right;\n",
       "    }\n",
       "</style>\n",
       "<table border=\"1\" class=\"dataframe\">\n",
       "  <thead>\n",
       "    <tr style=\"text-align: right;\">\n",
       "      <th></th>\n",
       "      <th>hash_content_id</th>\n",
       "      <th>hash_play_id</th>\n",
       "      <th>hash_visit_id</th>\n",
       "      <th>hash_watcher_id</th>\n",
       "      <th>hash_film_id</th>\n",
       "      <th>hash_event_id</th>\n",
       "      <th>is_login</th>\n",
       "      <th>playback_location</th>\n",
       "      <th>platform</th>\n",
       "      <th>play_time</th>\n",
       "      <th>...</th>\n",
       "      <th>app_version</th>\n",
       "      <th>city</th>\n",
       "      <th>play_duration</th>\n",
       "      <th>content_type</th>\n",
       "      <th>stream_type</th>\n",
       "      <th>title</th>\n",
       "      <th>category_name</th>\n",
       "      <th>film_title</th>\n",
       "      <th>season_name</th>\n",
       "      <th>genre_name</th>\n",
       "    </tr>\n",
       "  </thead>\n",
       "  <tbody>\n",
       "    <tr>\n",
       "      <th>169</th>\n",
       "      <td>09957ae4dbad578a1982de301abd04ec0937f78aa78c1c...</td>\n",
       "      <td>301c99fe7427924cda2bcc2b75b2fa284bd32cc8bbf360...</td>\n",
       "      <td>114e1ba8db5c4536e60e37dd996ea47c4c49bd39717b20...</td>\n",
       "      <td>5a6cd4d3b0ff67860b30e4fa5cf3de0ab3093c77dd3104...</td>\n",
       "      <td>NaN</td>\n",
       "      <td>0ecba5c9eafab795e1d6c7481803b3e7d56ea8ed2e346d...</td>\n",
       "      <td>False</td>\n",
       "      <td>direct</td>\n",
       "      <td>tv-android</td>\n",
       "      <td>2020-02-14T17:44:17.000Z</td>\n",
       "      <td>...</td>\n",
       "      <td>1.5.0 (28)</td>\n",
       "      <td>NaN</td>\n",
       "      <td>15</td>\n",
       "      <td>livestreaming</td>\n",
       "      <td>TvStream</td>\n",
       "      <td>iNews</td>\n",
       "      <td>NaN</td>\n",
       "      <td>NaN</td>\n",
       "      <td>NaN</td>\n",
       "      <td>NaN</td>\n",
       "    </tr>\n",
       "    <tr>\n",
       "      <th>170</th>\n",
       "      <td>09957ae4dbad578a1982de301abd04ec0937f78aa78c1c...</td>\n",
       "      <td>3e8daddc4e0fa5c389fb2a4f4b64036c4a3da154c042e2...</td>\n",
       "      <td>632ae4bd02a8a3e5c2f7615b91cdfd09585e6af72457e6...</td>\n",
       "      <td>0f14f6fd48c418a9f5f4860ab0ff52334869341b9acec4...</td>\n",
       "      <td>NaN</td>\n",
       "      <td>fcba49bb9659a8e8fecb529fc9d49e2056817daa2a492d...</td>\n",
       "      <td>True</td>\n",
       "      <td>direct</td>\n",
       "      <td>app-android</td>\n",
       "      <td>2020-02-15T12:25:28.000Z</td>\n",
       "      <td>...</td>\n",
       "      <td>4.24.9-403fc76 (3188606)</td>\n",
       "      <td>NaN</td>\n",
       "      <td>180</td>\n",
       "      <td>livestreaming</td>\n",
       "      <td>TvStream</td>\n",
       "      <td>iNews</td>\n",
       "      <td>NaN</td>\n",
       "      <td>NaN</td>\n",
       "      <td>NaN</td>\n",
       "      <td>NaN</td>\n",
       "    </tr>\n",
       "    <tr>\n",
       "      <th>171</th>\n",
       "      <td>09957ae4dbad578a1982de301abd04ec0937f78aa78c1c...</td>\n",
       "      <td>4d2ed0fee254f4014a842c62cce193262735cc645b5256...</td>\n",
       "      <td>4cb09bf1bc79967acb51cc038f094c4418ea9b7c61185b...</td>\n",
       "      <td>e563071189f16bbfffc83c1eeb933b624deab248e70898...</td>\n",
       "      <td>NaN</td>\n",
       "      <td>3a62c8c365d15e51c0cd6d15f098f6eb43ab02ba3fdd70...</td>\n",
       "      <td>True</td>\n",
       "      <td>direct</td>\n",
       "      <td>app-android</td>\n",
       "      <td>2020-02-15T02:36:53.000Z</td>\n",
       "      <td>...</td>\n",
       "      <td>4.23.13-b3b0f90 (3188596)</td>\n",
       "      <td>NaN</td>\n",
       "      <td>15</td>\n",
       "      <td>livestreaming</td>\n",
       "      <td>TvStream</td>\n",
       "      <td>iNews</td>\n",
       "      <td>NaN</td>\n",
       "      <td>NaN</td>\n",
       "      <td>NaN</td>\n",
       "      <td>NaN</td>\n",
       "    </tr>\n",
       "    <tr>\n",
       "      <th>172</th>\n",
       "      <td>09957ae4dbad578a1982de301abd04ec0937f78aa78c1c...</td>\n",
       "      <td>6292683b77dc3751bd708be592014715c3eb6d3dde6a2f...</td>\n",
       "      <td>670d0a8d6903ca86dd9f182ca64e71c8fc6174fcedb600...</td>\n",
       "      <td>232c20714dc190d89ff7210dc80932928180badd11a63e...</td>\n",
       "      <td>NaN</td>\n",
       "      <td>23aa4a9234cf59de2799e9abd206125e74f6bea6b4de3d...</td>\n",
       "      <td>False</td>\n",
       "      <td>direct</td>\n",
       "      <td>web-mobile</td>\n",
       "      <td>2020-02-15T00:50:37.000Z</td>\n",
       "      <td>...</td>\n",
       "      <td>NaN</td>\n",
       "      <td>NaN</td>\n",
       "      <td>0</td>\n",
       "      <td>livestreaming</td>\n",
       "      <td>TvStream</td>\n",
       "      <td>iNews</td>\n",
       "      <td>NaN</td>\n",
       "      <td>NaN</td>\n",
       "      <td>NaN</td>\n",
       "      <td>NaN</td>\n",
       "    </tr>\n",
       "    <tr>\n",
       "      <th>173</th>\n",
       "      <td>09957ae4dbad578a1982de301abd04ec0937f78aa78c1c...</td>\n",
       "      <td>75c85b4a9018aad5480d25bdf10381bde66687f47ebc29...</td>\n",
       "      <td>202eb51230fc9cc655c9cca1279e2cd58b4d5bb7923361...</td>\n",
       "      <td>0fb14d16c38774ad76a0446145cce118211420bd7d75c8...</td>\n",
       "      <td>NaN</td>\n",
       "      <td>fae457782250f264df028e674f6817b932ed611eeeed20...</td>\n",
       "      <td>False</td>\n",
       "      <td>direct</td>\n",
       "      <td>tv-android</td>\n",
       "      <td>2020-02-15T12:03:39.000Z</td>\n",
       "      <td>...</td>\n",
       "      <td>1.16.2 (74)</td>\n",
       "      <td>NaN</td>\n",
       "      <td>0</td>\n",
       "      <td>livestreaming</td>\n",
       "      <td>TvStream</td>\n",
       "      <td>iNews</td>\n",
       "      <td>NaN</td>\n",
       "      <td>NaN</td>\n",
       "      <td>NaN</td>\n",
       "      <td>NaN</td>\n",
       "    </tr>\n",
       "  </tbody>\n",
       "</table>\n",
       "<p>5 rows × 41 columns</p>\n",
       "</div>"
      ],
      "text/plain": [
       "                                       hash_content_id  \\\n",
       "169  09957ae4dbad578a1982de301abd04ec0937f78aa78c1c...   \n",
       "170  09957ae4dbad578a1982de301abd04ec0937f78aa78c1c...   \n",
       "171  09957ae4dbad578a1982de301abd04ec0937f78aa78c1c...   \n",
       "172  09957ae4dbad578a1982de301abd04ec0937f78aa78c1c...   \n",
       "173  09957ae4dbad578a1982de301abd04ec0937f78aa78c1c...   \n",
       "\n",
       "                                          hash_play_id  \\\n",
       "169  301c99fe7427924cda2bcc2b75b2fa284bd32cc8bbf360...   \n",
       "170  3e8daddc4e0fa5c389fb2a4f4b64036c4a3da154c042e2...   \n",
       "171  4d2ed0fee254f4014a842c62cce193262735cc645b5256...   \n",
       "172  6292683b77dc3751bd708be592014715c3eb6d3dde6a2f...   \n",
       "173  75c85b4a9018aad5480d25bdf10381bde66687f47ebc29...   \n",
       "\n",
       "                                         hash_visit_id  \\\n",
       "169  114e1ba8db5c4536e60e37dd996ea47c4c49bd39717b20...   \n",
       "170  632ae4bd02a8a3e5c2f7615b91cdfd09585e6af72457e6...   \n",
       "171  4cb09bf1bc79967acb51cc038f094c4418ea9b7c61185b...   \n",
       "172  670d0a8d6903ca86dd9f182ca64e71c8fc6174fcedb600...   \n",
       "173  202eb51230fc9cc655c9cca1279e2cd58b4d5bb7923361...   \n",
       "\n",
       "                                       hash_watcher_id hash_film_id  \\\n",
       "169  5a6cd4d3b0ff67860b30e4fa5cf3de0ab3093c77dd3104...          NaN   \n",
       "170  0f14f6fd48c418a9f5f4860ab0ff52334869341b9acec4...          NaN   \n",
       "171  e563071189f16bbfffc83c1eeb933b624deab248e70898...          NaN   \n",
       "172  232c20714dc190d89ff7210dc80932928180badd11a63e...          NaN   \n",
       "173  0fb14d16c38774ad76a0446145cce118211420bd7d75c8...          NaN   \n",
       "\n",
       "                                         hash_event_id  is_login  \\\n",
       "169  0ecba5c9eafab795e1d6c7481803b3e7d56ea8ed2e346d...     False   \n",
       "170  fcba49bb9659a8e8fecb529fc9d49e2056817daa2a492d...      True   \n",
       "171  3a62c8c365d15e51c0cd6d15f098f6eb43ab02ba3fdd70...      True   \n",
       "172  23aa4a9234cf59de2799e9abd206125e74f6bea6b4de3d...     False   \n",
       "173  fae457782250f264df028e674f6817b932ed611eeeed20...     False   \n",
       "\n",
       "    playback_location     platform                 play_time  ...  \\\n",
       "169            direct   tv-android  2020-02-14T17:44:17.000Z  ...   \n",
       "170            direct  app-android  2020-02-15T12:25:28.000Z  ...   \n",
       "171            direct  app-android  2020-02-15T02:36:53.000Z  ...   \n",
       "172            direct   web-mobile  2020-02-15T00:50:37.000Z  ...   \n",
       "173            direct   tv-android  2020-02-15T12:03:39.000Z  ...   \n",
       "\n",
       "                   app_version city  play_duration   content_type  \\\n",
       "169                 1.5.0 (28)  NaN             15  livestreaming   \n",
       "170   4.24.9-403fc76 (3188606)  NaN            180  livestreaming   \n",
       "171  4.23.13-b3b0f90 (3188596)  NaN             15  livestreaming   \n",
       "172                        NaN  NaN              0  livestreaming   \n",
       "173                1.16.2 (74)  NaN              0  livestreaming   \n",
       "\n",
       "     stream_type  title category_name film_title season_name genre_name  \n",
       "169     TvStream  iNews           NaN        NaN         NaN        NaN  \n",
       "170     TvStream  iNews           NaN        NaN         NaN        NaN  \n",
       "171     TvStream  iNews           NaN        NaN         NaN        NaN  \n",
       "172     TvStream  iNews           NaN        NaN         NaN        NaN  \n",
       "173     TvStream  iNews           NaN        NaN         NaN        NaN  \n",
       "\n",
       "[5 rows x 41 columns]"
      ]
     },
     "execution_count": 8,
     "metadata": {},
     "output_type": "execute_result"
    }
   ],
   "source": [
    "df1 = df[df['stream_type'] == 'TvStream']\n",
    "#Partitioning the dataset\n",
    "df.drop(df.index[df['stream_type'] == 'TvStream'], inplace = True)\n",
    "#Delete the partitioned part\n",
    "df1.head()"
   ]
  },
  {
   "cell_type": "markdown",
   "metadata": {},
   "source": [
    "Now the data has fully partitioned. The reading of the dataset the necessary must be in number not in a object or date type of data. The timeframe will be encoded by hour and the date"
   ]
  },
  {
   "cell_type": "code",
   "execution_count": 9,
   "metadata": {},
   "outputs": [
    {
     "data": {
      "text/html": [
       "<div>\n",
       "<style scoped>\n",
       "    .dataframe tbody tr th:only-of-type {\n",
       "        vertical-align: middle;\n",
       "    }\n",
       "\n",
       "    .dataframe tbody tr th {\n",
       "        vertical-align: top;\n",
       "    }\n",
       "\n",
       "    .dataframe thead th {\n",
       "        text-align: right;\n",
       "    }\n",
       "</style>\n",
       "<table border=\"1\" class=\"dataframe\">\n",
       "  <thead>\n",
       "    <tr style=\"text-align: right;\">\n",
       "      <th></th>\n",
       "      <th>hash_content_id</th>\n",
       "      <th>hash_play_id</th>\n",
       "      <th>hash_visit_id</th>\n",
       "      <th>hash_watcher_id</th>\n",
       "      <th>hash_film_id</th>\n",
       "      <th>hash_event_id</th>\n",
       "      <th>is_login</th>\n",
       "      <th>playback_location</th>\n",
       "      <th>platform</th>\n",
       "      <th>play_time</th>\n",
       "      <th>...</th>\n",
       "      <th>city</th>\n",
       "      <th>play_duration</th>\n",
       "      <th>content_type</th>\n",
       "      <th>stream_type</th>\n",
       "      <th>title</th>\n",
       "      <th>category_name</th>\n",
       "      <th>film_title</th>\n",
       "      <th>season_name</th>\n",
       "      <th>genre_name</th>\n",
       "      <th>play_date</th>\n",
       "    </tr>\n",
       "  </thead>\n",
       "  <tbody>\n",
       "    <tr>\n",
       "      <th>0</th>\n",
       "      <td>003f6dad4ab48a4e39ea262b19e3b42a4b53c2175078b3...</td>\n",
       "      <td>515dd4d7af23ae9ef5a2455bc97ee765fe86224ebaca71...</td>\n",
       "      <td>ed8d97adbba52562575973553003d9a13b103bc4693a6c...</td>\n",
       "      <td>3ba64f349972d4c7c05eb08e6b91db156a91af555ded6f...</td>\n",
       "      <td>NaN</td>\n",
       "      <td>175c473e6bbf67c337bdbd14c9dbdf01c627bfe5af17c1...</td>\n",
       "      <td>True</td>\n",
       "      <td>direct</td>\n",
       "      <td>tv-android</td>\n",
       "      <td>12:07:00</td>\n",
       "      <td>...</td>\n",
       "      <td>NaN</td>\n",
       "      <td>1263</td>\n",
       "      <td>vod</td>\n",
       "      <td>NaN</td>\n",
       "      <td>FTV SCTV - Kecubit Cinta Sahabat Chantiq</td>\n",
       "      <td>Movies</td>\n",
       "      <td>NaN</td>\n",
       "      <td>NaN</td>\n",
       "      <td>NaN</td>\n",
       "      <td>2020-02-15</td>\n",
       "    </tr>\n",
       "    <tr>\n",
       "      <th>1</th>\n",
       "      <td>0079c67ae8c7f6cbd44768f1988196c137326f3058d995...</td>\n",
       "      <td>047f7b21bcb1a57119229958b11abe364ce1a279f8ae00...</td>\n",
       "      <td>88a404df574ba3c637bb99e94a2e51b16114f5da6f99cd...</td>\n",
       "      <td>36fd7b04f88ef3d6f16326ae4a39fcf2e4b1dec052919c...</td>\n",
       "      <td>NaN</td>\n",
       "      <td>6f8d1372d0128e141c7ef87649d9ec46328d327c2a21d4...</td>\n",
       "      <td>False</td>\n",
       "      <td>embed</td>\n",
       "      <td>web-mobile</td>\n",
       "      <td>18:37:52</td>\n",
       "      <td>...</td>\n",
       "      <td>NaN</td>\n",
       "      <td>0</td>\n",
       "      <td>vod</td>\n",
       "      <td>NaN</td>\n",
       "      <td>Viral Seorang Siswi Dibully di Kelas, Gubernur...</td>\n",
       "      <td>News</td>\n",
       "      <td>NaN</td>\n",
       "      <td>NaN</td>\n",
       "      <td>NaN</td>\n",
       "      <td>2020-02-14</td>\n",
       "    </tr>\n",
       "  </tbody>\n",
       "</table>\n",
       "<p>2 rows × 42 columns</p>\n",
       "</div>"
      ],
      "text/plain": [
       "                                     hash_content_id  \\\n",
       "0  003f6dad4ab48a4e39ea262b19e3b42a4b53c2175078b3...   \n",
       "1  0079c67ae8c7f6cbd44768f1988196c137326f3058d995...   \n",
       "\n",
       "                                        hash_play_id  \\\n",
       "0  515dd4d7af23ae9ef5a2455bc97ee765fe86224ebaca71...   \n",
       "1  047f7b21bcb1a57119229958b11abe364ce1a279f8ae00...   \n",
       "\n",
       "                                       hash_visit_id  \\\n",
       "0  ed8d97adbba52562575973553003d9a13b103bc4693a6c...   \n",
       "1  88a404df574ba3c637bb99e94a2e51b16114f5da6f99cd...   \n",
       "\n",
       "                                     hash_watcher_id hash_film_id  \\\n",
       "0  3ba64f349972d4c7c05eb08e6b91db156a91af555ded6f...          NaN   \n",
       "1  36fd7b04f88ef3d6f16326ae4a39fcf2e4b1dec052919c...          NaN   \n",
       "\n",
       "                                       hash_event_id  is_login  \\\n",
       "0  175c473e6bbf67c337bdbd14c9dbdf01c627bfe5af17c1...      True   \n",
       "1  6f8d1372d0128e141c7ef87649d9ec46328d327c2a21d4...     False   \n",
       "\n",
       "  playback_location    platform play_time  ... city play_duration  \\\n",
       "0            direct  tv-android  12:07:00  ...  NaN          1263   \n",
       "1             embed  web-mobile  18:37:52  ...  NaN             0   \n",
       "\n",
       "   content_type stream_type  \\\n",
       "0           vod         NaN   \n",
       "1           vod         NaN   \n",
       "\n",
       "                                               title  category_name  \\\n",
       "0           FTV SCTV - Kecubit Cinta Sahabat Chantiq         Movies   \n",
       "1  Viral Seorang Siswi Dibully di Kelas, Gubernur...           News   \n",
       "\n",
       "  film_title season_name genre_name   play_date  \n",
       "0        NaN         NaN        NaN  2020-02-15  \n",
       "1        NaN         NaN        NaN  2020-02-14  \n",
       "\n",
       "[2 rows x 42 columns]"
      ]
     },
     "execution_count": 9,
     "metadata": {},
     "output_type": "execute_result"
    }
   ],
   "source": [
    "df[\"play_date\"] = df[\"play_time\"]\n",
    "#create the duplicate column\n",
    "df['play_time'] = pd.to_datetime(df['play_time']).dt.time\n",
    "df['play_date'] = pd.to_datetime(df['play_date']).dt.date\n",
    "#convert the time into number and separated between time and date\n",
    "df.head(2)"
   ]
  },
  {
   "cell_type": "markdown",
   "metadata": {},
   "source": [
    "After convert some index into number. It is the time to check the duplicated"
   ]
  },
  {
   "cell_type": "code",
   "execution_count": 10,
   "metadata": {
    "scrolled": false
   },
   "outputs": [
    {
     "name": "stdout",
     "output_type": "stream",
     "text": [
      "Duplicate Rows based on a single column are:\n",
      "                                          hash_content_id  \\\n",
      "268906  cea1d2c87fd66c910f24ade553045e0db36784d92fcbc1...   \n",
      "278724  1f09d9f31872f23fd9c9c448c2e7092b9b1263b77cc7eb...   \n",
      "353773  2eef252fb29fd111cc6c4230e169f284c77692afa231e3...   \n",
      "372654  bd3c8cb169b3cbad7375c052885aa669d366a169604120...   \n",
      "382401  055bba1943e8227c374048b2e4f30cc22cdfe290d86fa0...   \n",
      "397272  87e8b5f09743c1ba748300304aa6de19c5900bd7a90111...   \n",
      "416792  2904821fc383b21d2d53d09496b33f6fa7c1e351f5e155...   \n",
      "464696  98568247d41980f73086ecc5a91e3dfe9333c10aef7981...   \n",
      "490701  c0cd6caba3c793b53161ce25b18e38a0bf5a3fcd5ff60e...   \n",
      "606097  b3143a6d6075c2b7bbc6c0c4bfa058d1c57abc719b3f1a...   \n",
      "608154  3b92cfdf4817fe1fed07acca345ad23ad81e4a20f5a272...   \n",
      "620155  073e4cfd9c783ec16ec052fd29b473e0af321462ef81f0...   \n",
      "644456  c8996c0506372eba7f95c315e8c7161feb90021fae8512...   \n",
      "655268  440009fe59dad6bddce42ac13f27e5e8876dcb0551e593...   \n",
      "672253  3e00202776b646097268e6015d3b0a7ec6ed56e694e128...   \n",
      "682951  eace36aaebe4bb945f1df967eade3b99cd437a7300001d...   \n",
      "703304  ca77f33952a198f1f364077d96a68408731088a2e1733a...   \n",
      "728393  ab5c94024e939c88cdfe011a38fd7440dd2bc910c961b5...   \n",
      "736893  a89892066e7e482b35fe4c7271f987450fa4171613c3fa...   \n",
      "\n",
      "                                             hash_play_id  \\\n",
      "268906  6e7306154b654c51888ca5a35f2b13d0c07c70268b72e2...   \n",
      "278724  f7321873d5314f48c3202e72f359fecad9b02bbbb278fd...   \n",
      "353773  959daaae26ba43b540fa3a4de10f48919d7626c3f85ec8...   \n",
      "372654  9b1b9aaca064fd403c09f7686afc808464ca487261354b...   \n",
      "382401  7e384f9e3065a849161237066fdd5162ad8fdbb2503289...   \n",
      "397272  c3d5f2da361f57fdfbb9ce4091009c1f062ab252f8d314...   \n",
      "416792  a3161c3515a02bd2c6df230fb66903c6f029617cf4e375...   \n",
      "464696  4c67aedc75a40ca4f7e2989b66385b7151008eee5341de...   \n",
      "490701  35aee23018ff69299b08953ec38189c45e333811181709...   \n",
      "606097  75a337f2b535a09a976c641959e89ace60026e6d30d9f5...   \n",
      "608154  11959a40fdacb37856247b93225187a85a86d46b2907b1...   \n",
      "620155  f54b413864b89a90a9c6d1c4a0fdc21eed9dbd4daa2b20...   \n",
      "644456  7e58efe08ac1e9f2c56db928f343473aba0573951ad857...   \n",
      "655268  4eae65c91633ae8a32508787a4c5602d16f0f1f9b433c6...   \n",
      "672253  6c50d0814d103401af9620ee1719c270fcd5cbf358d5dd...   \n",
      "682951  2a5663247d640f412ed89c9beee9366392cf23bd89135e...   \n",
      "703304  13d0b22aefe427ce0d137418fe7a871e2972f44747e322...   \n",
      "728393  15a14085d179ec49b0c88e1043d8a2d88f5a5e4afd9e99...   \n",
      "736893  9907b530ebbeab8cb657a49ed061259d1bc1050d26fb3c...   \n",
      "\n",
      "                                            hash_visit_id  \\\n",
      "268906  e966d000fde64b98b911402cc618c83345cbc5f2dc3ebc...   \n",
      "278724  553a75fd013df08028f2522cd2d229e52459d90c176306...   \n",
      "353773  060719b0bf12b9ee5da2d99c7a82d7c22b3db768777e5f...   \n",
      "372654  d2aa5e9c96f517ac65ee5ea1bf36ca4a2bcf6874e3699d...   \n",
      "382401  2951cedf66e044fd85b88a7041ecc673cd73c299e6171a...   \n",
      "397272  508b550a36196a3eb9c011606f8ea389291750daa88189...   \n",
      "416792  076a52e49285b405cf5135f5ae0694bb2f252b0f616d75...   \n",
      "464696  b665a528476f2b561a6602c209836498a7816a8ad33cb3...   \n",
      "490701  97a0177c7234f966399a3d0bd728323027218fbec41fde...   \n",
      "606097  b097c3421e34135811df937f5dd0bd59a03d4116498d36...   \n",
      "608154  30e17dc37d60af7bbf57ea941c92ef7c5eba1500368103...   \n",
      "620155  3a96a9b80aeff3f3d78bed9a7c8e252e9d6c251a2a20cb...   \n",
      "644456  a925ec2109db7d729a8f99d5509c7b9a6cb5f2d28a4535...   \n",
      "655268  f4372f8c3ac94d4e96c4b5f60aa7920c3dc37fd77bbb01...   \n",
      "672253  654a28149dd866a2909711a087baa34e0f7f1451e473d6...   \n",
      "682951  5a20137255afc6d66e89b1e6c638404b49ddd352957b23...   \n",
      "703304  37b29f700c4c7cd07e3d06373e42ef99c7b13b0e10aeef...   \n",
      "728393  1b0db7d1d7ff5fdee84466944f60a1bbb312857ca8ee6b...   \n",
      "736893  ab01a4959f11efdabe985c1176fe75702e9b3e38f0e941...   \n",
      "\n",
      "                                          hash_watcher_id  \\\n",
      "268906  d8a5a4afcfc55139b509b9bf1df627017672b1e14f6537...   \n",
      "278724  c7f706c425a8ef24738f088270494d6918596b5eae173b...   \n",
      "353773  4fa9af19dd5060a9bed5443470b754abc022807c9656e7...   \n",
      "372654  698ed544c7a33185bb9931965bfcfd4c1c6b9997d8105d...   \n",
      "382401  537a4711875c5ce7e0c4c29462aec8f26cc6fe4d33062b...   \n",
      "397272  111a16be87e03810a1457c945d0e528c65629ebb2439a7...   \n",
      "416792  08a0345ee9e56444108e95e09fc39288279dda7c68cdee...   \n",
      "464696  b9e93c39eac1fe871b5b41b354eda4dc3ee4ffe0aa6b8d...   \n",
      "490701  706d98162585f32c65174d7f2ebdace502ba69b95489b0...   \n",
      "606097  68a9d92f7e166a76fb09342d104a74c9fe3f66ba005ea8...   \n",
      "608154  e120446f8c336c72ec4cada24d41cbdf385401c32cfb57...   \n",
      "620155  bfa45bb3cca50f92e7addd58a99a51a5066d3a07a39ad5...   \n",
      "644456  45c7d2f73a4c38e48dbc3f8e9966b0488bd60d582257b4...   \n",
      "655268  eb76be59ef42da7fa9fd9d2e519ca865270b9a64a99d98...   \n",
      "672253  4f4ae1608be572e3d74c697fd4fcc84c9c25a19cfc84a6...   \n",
      "682951  72fb260049229ffae69a0a8c99bd286b8309405472ea6c...   \n",
      "703304  33b23c068a5e64f45115407302f41ec7a4492fc1f34373...   \n",
      "728393  dd6d59e340adb2b6194731105b55c19a69617a42ca07f6...   \n",
      "736893  7a46c5b76774e93ec7fa1c1908a43bfd51e144c748c649...   \n",
      "\n",
      "                                             hash_film_id  \\\n",
      "268906  6e2d4d3a3d4c4bb21b095657230061140c63b1ff4d89d8...   \n",
      "278724  a440868cf4311953cb45c7ded9360009e1bb77775b6395...   \n",
      "353773  28955b1fb53203e2ff246fd2d4c3e148d4666a617469cd...   \n",
      "372654  1a5659493256d9eb296edea686b14dfd94116d21c8ab25...   \n",
      "382401  ddfe0e8d462af661f81db36589c39882dc0f2330785b5d...   \n",
      "397272  28955b1fb53203e2ff246fd2d4c3e148d4666a617469cd...   \n",
      "416792                                                NaN   \n",
      "464696  28955b1fb53203e2ff246fd2d4c3e148d4666a617469cd...   \n",
      "490701                                                NaN   \n",
      "606097                                                NaN   \n",
      "608154  200dd69b70a88134b3a939de5f0b10c44a1675344329b9...   \n",
      "620155  38b83caefa1ef26940f1d07bd4ec94c60809b0f88f2118...   \n",
      "644456  ddfe0e8d462af661f81db36589c39882dc0f2330785b5d...   \n",
      "655268  a67063986e67b7ddd107229ba9d480ee3a02f9d59732d4...   \n",
      "672253                                                NaN   \n",
      "682951                                                NaN   \n",
      "703304  6fc8f95bc6465849249d974d53eecc56c00ffda0fc3c70...   \n",
      "728393  6ea2fdb3399f4d2e806beb01e9a3371bd622bed6a409ac...   \n",
      "736893                                                NaN   \n",
      "\n",
      "                                            hash_event_id  is_login  \\\n",
      "268906  26bab48c7985433c8b4132bd73f21f0f9fcbb7728f6f56...      True   \n",
      "278724  c4cebafb968b547b54dd32d768ea64c249329d066fb3ec...      True   \n",
      "353773  36d17cb325bd6786205574251cc5c9248c94360aacd9e6...     False   \n",
      "372654  faf130a9a256a0b0d98523ea7ba65c0253f11bce5e95df...      True   \n",
      "382401  67aa5e4a3838fb7ce5e69c89534803d48ce443fde0fe0f...     False   \n",
      "397272  75852e8d39cadadd46acb3d6b1e19d0d887034b86747f6...      True   \n",
      "416792  78a2a3d4df1a6a37fb9ac94ad9d343a83bbc05d3e049f2...      True   \n",
      "464696  b2cf65056a74f71893fac57732aa5986fd9960f92ff2d4...      True   \n",
      "490701  3c97944c9b03deb662a8d11d89b8b0d4f5b99feef8c6dd...      True   \n",
      "606097  989b4204aeea3672e03bac1ca4f2b96b67a570fb886ff6...      True   \n",
      "608154  25f926bdf313fa571ab9cfb1c4e59c70d450234de82698...      True   \n",
      "620155  407953fdfc2476173823a82c576de9c33524da34cbe2c4...      True   \n",
      "644456  c56364dfde2e0c1e4f339b13908bb1343164fe09946cbd...     False   \n",
      "655268  067ea080d07296951063121b99267e68c84a6c63d2bb0c...      True   \n",
      "672253  1f1d37bd40e1afe4c110945aaf77464422ce1d325dbd21...     False   \n",
      "682951  1965580d7ed0f4f2cf70bfc15f2e835123af0b4a77714b...      True   \n",
      "703304  363193010cd7bd097d09c1eb4af755a3414e0d12b973ce...     False   \n",
      "728393  8170a9e91917d34f85752aa11c7240e539b855cb7f3210...      True   \n",
      "736893  8e96c54ea28568711fedf714d5b46410560da51a91901c...     False   \n",
      "\n",
      "       playback_location     platform play_time  ... city play_duration  \\\n",
      "268906            direct   tv-android  09:55:43  ...  NaN          3584   \n",
      "278724            direct   tv-android  12:04:45  ...  NaN           177   \n",
      "353773            direct  app-android  10:06:03  ...  NaN           417   \n",
      "372654            direct   tv-android  14:35:01  ...  NaN            37   \n",
      "382401            direct  app-android  10:15:30  ...  NaN          4599   \n",
      "397272            direct      app-ios  05:27:43  ...  NaN             0   \n",
      "416792            direct  app-android  11:49:46  ...  NaN            18   \n",
      "464696            direct   tv-android  05:28:59  ...  NaN          2577   \n",
      "490701            direct      app-ios  16:52:41  ...  NaN           972   \n",
      "606097            direct      app-ios  07:56:33  ...  NaN             0   \n",
      "608154            direct   tv-android  02:52:14  ...  NaN             0   \n",
      "620155            direct   tv-android  14:18:12  ...  NaN          3636   \n",
      "644456            direct   tv-android  14:37:13  ...  NaN          1763   \n",
      "655268            direct  app-android  10:36:25  ...  NaN          3392   \n",
      "672253            direct   web-mobile  16:58:44  ...  NaN           174   \n",
      "682951            direct      app-ios  09:41:04  ...  NaN          3809   \n",
      "703304            direct   tv-android  15:21:39  ...  NaN            40   \n",
      "728393            direct      app-ios  15:43:04  ...  NaN             0   \n",
      "736893             embed   web-mobile  16:57:04  ...  NaN            72   \n",
      "\n",
      "        content_type stream_type  \\\n",
      "268906           vod         NaN   \n",
      "278724           vod         NaN   \n",
      "353773           vod         NaN   \n",
      "372654           vod         NaN   \n",
      "382401           vod         NaN   \n",
      "397272           vod         NaN   \n",
      "416792           vod         NaN   \n",
      "464696           vod         NaN   \n",
      "490701       catchup         NaN   \n",
      "606097           vod         NaN   \n",
      "608154           vod         NaN   \n",
      "620155           vod         NaN   \n",
      "644456           vod         NaN   \n",
      "655268           vod         NaN   \n",
      "672253           vod         NaN   \n",
      "682951           vod         NaN   \n",
      "703304           vod         NaN   \n",
      "728393           vod         NaN   \n",
      "736893           vod         NaN   \n",
      "\n",
      "                                                    title  category_name  \\\n",
      "268906                                         Episode 04         Movies   \n",
      "278724                UNGU - KAU ANGGAP APA | Video Movie          Music   \n",
      "353773       Samudra Cinta - Episode 124 dan 125 Part 1/2        TV Show   \n",
      "372654                                         Episode 02         Movies   \n",
      "382401                   Cinta Karena Cinta - Episode 303        TV Show   \n",
      "397272       Samudra Cinta - Episode 124 dan 125 Part 2/2        TV Show   \n",
      "416792  Spektakuller!!! Diyah - Jatim \\ Semakin Sayang...          Music   \n",
      "464696       Samudra Cinta - Episode 139 dan 140 Part 2/2        TV Show   \n",
      "490701  Penjual Gulali Yang Pantang Menyerah Yang Suks...           Vlog   \n",
      "606097  Naik Naik Ke Puncak Gunung | Lagu Anak Indones...          Music   \n",
      "608154                          Anak Langit - Episode 163        TV Show   \n",
      "620155                                         Episode 04         Movies   \n",
      "644456  Cinta Karena Cinta - Episode 304 dan 305 Part 1/2        TV Show   \n",
      "655268           Jangan Panggil Gue Pak Haji - Episode 43        TV Show   \n",
      "672253  KASIHAN RARA LIDA!! Lesti DA Komentari Sambil ...  Entertainment   \n",
      "682951  Sinema Indosiar - Kubayar Pacar Suamiku Demi A...         Movies   \n",
      "703304           Geisha - Kembali Pulang (Official Video)          Music   \n",
      "728393                                    Islam KTP EP 19         Movies   \n",
      "736893                 VIDEO TOP 3: Buah Cinta Ahok Puput           News   \n",
      "\n",
      "                         film_title           season_name  \\\n",
      "268906      While You Were Sleeping              Season 1   \n",
      "278724              Essential: Ungu  Official Music Video   \n",
      "353773                Samudra Cinta          Episode 1-50   \n",
      "372654                The Good Wife              Season 1   \n",
      "382401           Cinta Karena Cinta     Episode 201 - 300   \n",
      "397272                Samudra Cinta          Episode 1-50   \n",
      "416792                          NaN                   NaN   \n",
      "464696                Samudra Cinta          Episode 1-50   \n",
      "490701                          NaN                   NaN   \n",
      "606097                          NaN                   NaN   \n",
      "608154                  Anak Langit       Episode 1 - 169   \n",
      "620155               W – Two Worlds                 Movie   \n",
      "644456           Cinta Karena Cinta     Episode 201 - 300   \n",
      "655268  Jangan Panggil Gue Pak Haji              Season 1   \n",
      "672253                          NaN                   NaN   \n",
      "682951                          NaN                   NaN   \n",
      "703304            Essential: Geisha  Official Music Video   \n",
      "728393                    Islam KTP  Season 1 ( Eps 1-10)   \n",
      "736893                          NaN                   NaN   \n",
      "\n",
      "                                genre_name   play_date  \n",
      "268906               Korean Series,Romance  2020-02-08  \n",
      "278724                               Music  2020-02-12  \n",
      "353773                            Sinetron  2020-02-06  \n",
      "372654     Drama,Newly Added,Korean Series  2020-02-04  \n",
      "382401                            Sinetron  2020-02-04  \n",
      "397272                            Sinetron  2020-02-12  \n",
      "416792                                 NaN  2020-02-09  \n",
      "464696                            Sinetron  2020-02-16  \n",
      "490701                                 NaN  2020-02-15  \n",
      "606097                                 NaN  2020-02-06  \n",
      "608154                            Sinetron  2020-02-06  \n",
      "620155  Drama,Korean Series,Action,Romance  2020-02-02  \n",
      "644456                            Sinetron  2020-02-07  \n",
      "655268                            Sinetron  2020-02-02  \n",
      "672253                                 NaN  2020-02-12  \n",
      "682951                                 NaN  2020-02-14  \n",
      "703304                               Music  2020-02-11  \n",
      "728393                                 NaN  2020-02-03  \n",
      "736893                                 NaN  2020-02-02  \n",
      "\n",
      "[19 rows x 42 columns]\n"
     ]
    }
   ],
   "source": [
    "#Check the duplicated data based on 1 column\n",
    "duplicateRowsDF = df[df.duplicated(['hash_play_id'])]\n",
    "print(\"Duplicate Rows based on a single column are:\", duplicateRowsDF, sep='\\n')\n"
   ]
  },
  {
   "cell_type": "code",
   "execution_count": 11,
   "metadata": {
    "scrolled": true
   },
   "outputs": [
    {
     "data": {
      "text/html": [
       "<div>\n",
       "<style scoped>\n",
       "    .dataframe tbody tr th:only-of-type {\n",
       "        vertical-align: middle;\n",
       "    }\n",
       "\n",
       "    .dataframe tbody tr th {\n",
       "        vertical-align: top;\n",
       "    }\n",
       "\n",
       "    .dataframe thead th {\n",
       "        text-align: right;\n",
       "    }\n",
       "</style>\n",
       "<table border=\"1\" class=\"dataframe\">\n",
       "  <thead>\n",
       "    <tr style=\"text-align: right;\">\n",
       "      <th></th>\n",
       "      <th>hash_content_id</th>\n",
       "      <th>hash_play_id</th>\n",
       "      <th>hash_visit_id</th>\n",
       "      <th>hash_watcher_id</th>\n",
       "      <th>hash_film_id</th>\n",
       "      <th>hash_event_id</th>\n",
       "      <th>is_login</th>\n",
       "      <th>playback_location</th>\n",
       "      <th>platform</th>\n",
       "      <th>play_time</th>\n",
       "      <th>...</th>\n",
       "      <th>city</th>\n",
       "      <th>play_duration</th>\n",
       "      <th>content_type</th>\n",
       "      <th>stream_type</th>\n",
       "      <th>title</th>\n",
       "      <th>category_name</th>\n",
       "      <th>film_title</th>\n",
       "      <th>season_name</th>\n",
       "      <th>genre_name</th>\n",
       "      <th>play_date</th>\n",
       "    </tr>\n",
       "  </thead>\n",
       "  <tbody>\n",
       "    <tr>\n",
       "      <th>0</th>\n",
       "      <td>003f6dad4ab48a4e39ea262b19e3b42a4b53c2175078b3...</td>\n",
       "      <td>515dd4d7af23ae9ef5a2455bc97ee765fe86224ebaca71...</td>\n",
       "      <td>ed8d97adbba52562575973553003d9a13b103bc4693a6c...</td>\n",
       "      <td>3ba64f349972d4c7c05eb08e6b91db156a91af555ded6f...</td>\n",
       "      <td>NaN</td>\n",
       "      <td>175c473e6bbf67c337bdbd14c9dbdf01c627bfe5af17c1...</td>\n",
       "      <td>True</td>\n",
       "      <td>direct</td>\n",
       "      <td>tv-android</td>\n",
       "      <td>12:07:00</td>\n",
       "      <td>...</td>\n",
       "      <td>NaN</td>\n",
       "      <td>1263</td>\n",
       "      <td>vod</td>\n",
       "      <td>NaN</td>\n",
       "      <td>FTV SCTV - Kecubit Cinta Sahabat Chantiq</td>\n",
       "      <td>Movies</td>\n",
       "      <td>NaN</td>\n",
       "      <td>NaN</td>\n",
       "      <td>NaN</td>\n",
       "      <td>2020-02-15</td>\n",
       "    </tr>\n",
       "    <tr>\n",
       "      <th>1</th>\n",
       "      <td>0079c67ae8c7f6cbd44768f1988196c137326f3058d995...</td>\n",
       "      <td>047f7b21bcb1a57119229958b11abe364ce1a279f8ae00...</td>\n",
       "      <td>88a404df574ba3c637bb99e94a2e51b16114f5da6f99cd...</td>\n",
       "      <td>36fd7b04f88ef3d6f16326ae4a39fcf2e4b1dec052919c...</td>\n",
       "      <td>NaN</td>\n",
       "      <td>6f8d1372d0128e141c7ef87649d9ec46328d327c2a21d4...</td>\n",
       "      <td>False</td>\n",
       "      <td>embed</td>\n",
       "      <td>web-mobile</td>\n",
       "      <td>18:37:52</td>\n",
       "      <td>...</td>\n",
       "      <td>NaN</td>\n",
       "      <td>0</td>\n",
       "      <td>vod</td>\n",
       "      <td>NaN</td>\n",
       "      <td>Viral Seorang Siswi Dibully di Kelas, Gubernur...</td>\n",
       "      <td>News</td>\n",
       "      <td>NaN</td>\n",
       "      <td>NaN</td>\n",
       "      <td>NaN</td>\n",
       "      <td>2020-02-14</td>\n",
       "    </tr>\n",
       "  </tbody>\n",
       "</table>\n",
       "<p>2 rows × 42 columns</p>\n",
       "</div>"
      ],
      "text/plain": [
       "                                     hash_content_id  \\\n",
       "0  003f6dad4ab48a4e39ea262b19e3b42a4b53c2175078b3...   \n",
       "1  0079c67ae8c7f6cbd44768f1988196c137326f3058d995...   \n",
       "\n",
       "                                        hash_play_id  \\\n",
       "0  515dd4d7af23ae9ef5a2455bc97ee765fe86224ebaca71...   \n",
       "1  047f7b21bcb1a57119229958b11abe364ce1a279f8ae00...   \n",
       "\n",
       "                                       hash_visit_id  \\\n",
       "0  ed8d97adbba52562575973553003d9a13b103bc4693a6c...   \n",
       "1  88a404df574ba3c637bb99e94a2e51b16114f5da6f99cd...   \n",
       "\n",
       "                                     hash_watcher_id hash_film_id  \\\n",
       "0  3ba64f349972d4c7c05eb08e6b91db156a91af555ded6f...          NaN   \n",
       "1  36fd7b04f88ef3d6f16326ae4a39fcf2e4b1dec052919c...          NaN   \n",
       "\n",
       "                                       hash_event_id  is_login  \\\n",
       "0  175c473e6bbf67c337bdbd14c9dbdf01c627bfe5af17c1...      True   \n",
       "1  6f8d1372d0128e141c7ef87649d9ec46328d327c2a21d4...     False   \n",
       "\n",
       "  playback_location    platform play_time  ... city play_duration  \\\n",
       "0            direct  tv-android  12:07:00  ...  NaN          1263   \n",
       "1             embed  web-mobile  18:37:52  ...  NaN             0   \n",
       "\n",
       "   content_type stream_type  \\\n",
       "0           vod         NaN   \n",
       "1           vod         NaN   \n",
       "\n",
       "                                               title  category_name  \\\n",
       "0           FTV SCTV - Kecubit Cinta Sahabat Chantiq         Movies   \n",
       "1  Viral Seorang Siswi Dibully di Kelas, Gubernur...           News   \n",
       "\n",
       "  film_title season_name genre_name   play_date  \n",
       "0        NaN         NaN        NaN  2020-02-15  \n",
       "1        NaN         NaN        NaN  2020-02-14  \n",
       "\n",
       "[2 rows x 42 columns]"
      ]
     },
     "execution_count": 11,
     "metadata": {},
     "output_type": "execute_result"
    }
   ],
   "source": [
    "#drop the row\n",
    "df.drop([268906, 278724, 353773,372654,382401,397272, 416792, 464696, 490701, 606097,608154,620155,644456,655268, 672253,682951,703304,728393,736896], axis=0)\n",
    "df.head(2)"
   ]
  },
  {
   "cell_type": "code",
   "execution_count": 12,
   "metadata": {
    "scrolled": true
   },
   "outputs": [
    {
     "name": "stdout",
     "output_type": "stream",
     "text": [
      "Duplicate Rows based on 2 columns are:\n",
      "                                          hash_content_id  \\\n",
      "268906  cea1d2c87fd66c910f24ade553045e0db36784d92fcbc1...   \n",
      "353773  2eef252fb29fd111cc6c4230e169f284c77692afa231e3...   \n",
      "382401  055bba1943e8227c374048b2e4f30cc22cdfe290d86fa0...   \n",
      "397272  87e8b5f09743c1ba748300304aa6de19c5900bd7a90111...   \n",
      "416792  2904821fc383b21d2d53d09496b33f6fa7c1e351f5e155...   \n",
      "606097  b3143a6d6075c2b7bbc6c0c4bfa058d1c57abc719b3f1a...   \n",
      "655268  440009fe59dad6bddce42ac13f27e5e8876dcb0551e593...   \n",
      "\n",
      "                                             hash_play_id  \\\n",
      "268906  6e7306154b654c51888ca5a35f2b13d0c07c70268b72e2...   \n",
      "353773  959daaae26ba43b540fa3a4de10f48919d7626c3f85ec8...   \n",
      "382401  7e384f9e3065a849161237066fdd5162ad8fdbb2503289...   \n",
      "397272  c3d5f2da361f57fdfbb9ce4091009c1f062ab252f8d314...   \n",
      "416792  a3161c3515a02bd2c6df230fb66903c6f029617cf4e375...   \n",
      "606097  75a337f2b535a09a976c641959e89ace60026e6d30d9f5...   \n",
      "655268  4eae65c91633ae8a32508787a4c5602d16f0f1f9b433c6...   \n",
      "\n",
      "                                            hash_visit_id  \\\n",
      "268906  e966d000fde64b98b911402cc618c83345cbc5f2dc3ebc...   \n",
      "353773  060719b0bf12b9ee5da2d99c7a82d7c22b3db768777e5f...   \n",
      "382401  2951cedf66e044fd85b88a7041ecc673cd73c299e6171a...   \n",
      "397272  508b550a36196a3eb9c011606f8ea389291750daa88189...   \n",
      "416792  076a52e49285b405cf5135f5ae0694bb2f252b0f616d75...   \n",
      "606097  b097c3421e34135811df937f5dd0bd59a03d4116498d36...   \n",
      "655268  f4372f8c3ac94d4e96c4b5f60aa7920c3dc37fd77bbb01...   \n",
      "\n",
      "                                          hash_watcher_id  \\\n",
      "268906  d8a5a4afcfc55139b509b9bf1df627017672b1e14f6537...   \n",
      "353773  4fa9af19dd5060a9bed5443470b754abc022807c9656e7...   \n",
      "382401  537a4711875c5ce7e0c4c29462aec8f26cc6fe4d33062b...   \n",
      "397272  111a16be87e03810a1457c945d0e528c65629ebb2439a7...   \n",
      "416792  08a0345ee9e56444108e95e09fc39288279dda7c68cdee...   \n",
      "606097  68a9d92f7e166a76fb09342d104a74c9fe3f66ba005ea8...   \n",
      "655268  eb76be59ef42da7fa9fd9d2e519ca865270b9a64a99d98...   \n",
      "\n",
      "                                             hash_film_id  \\\n",
      "268906  6e2d4d3a3d4c4bb21b095657230061140c63b1ff4d89d8...   \n",
      "353773  28955b1fb53203e2ff246fd2d4c3e148d4666a617469cd...   \n",
      "382401  ddfe0e8d462af661f81db36589c39882dc0f2330785b5d...   \n",
      "397272  28955b1fb53203e2ff246fd2d4c3e148d4666a617469cd...   \n",
      "416792                                                NaN   \n",
      "606097                                                NaN   \n",
      "655268  a67063986e67b7ddd107229ba9d480ee3a02f9d59732d4...   \n",
      "\n",
      "                                            hash_event_id  is_login  \\\n",
      "268906  26bab48c7985433c8b4132bd73f21f0f9fcbb7728f6f56...      True   \n",
      "353773  36d17cb325bd6786205574251cc5c9248c94360aacd9e6...     False   \n",
      "382401  67aa5e4a3838fb7ce5e69c89534803d48ce443fde0fe0f...     False   \n",
      "397272  75852e8d39cadadd46acb3d6b1e19d0d887034b86747f6...      True   \n",
      "416792  78a2a3d4df1a6a37fb9ac94ad9d343a83bbc05d3e049f2...      True   \n",
      "606097  989b4204aeea3672e03bac1ca4f2b96b67a570fb886ff6...      True   \n",
      "655268  067ea080d07296951063121b99267e68c84a6c63d2bb0c...      True   \n",
      "\n",
      "       playback_location     platform play_time  ... city play_duration  \\\n",
      "268906            direct   tv-android  09:55:43  ...  NaN          3584   \n",
      "353773            direct  app-android  10:06:03  ...  NaN           417   \n",
      "382401            direct  app-android  10:15:30  ...  NaN          4599   \n",
      "397272            direct      app-ios  05:27:43  ...  NaN             0   \n",
      "416792            direct  app-android  11:49:46  ...  NaN            18   \n",
      "606097            direct      app-ios  07:56:33  ...  NaN             0   \n",
      "655268            direct  app-android  10:36:25  ...  NaN          3392   \n",
      "\n",
      "        content_type stream_type  \\\n",
      "268906           vod         NaN   \n",
      "353773           vod         NaN   \n",
      "382401           vod         NaN   \n",
      "397272           vod         NaN   \n",
      "416792           vod         NaN   \n",
      "606097           vod         NaN   \n",
      "655268           vod         NaN   \n",
      "\n",
      "                                                    title  category_name  \\\n",
      "268906                                         Episode 04         Movies   \n",
      "353773       Samudra Cinta - Episode 124 dan 125 Part 1/2        TV Show   \n",
      "382401                   Cinta Karena Cinta - Episode 303        TV Show   \n",
      "397272       Samudra Cinta - Episode 124 dan 125 Part 2/2        TV Show   \n",
      "416792  Spektakuller!!! Diyah - Jatim \\ Semakin Sayang...          Music   \n",
      "606097  Naik Naik Ke Puncak Gunung | Lagu Anak Indones...          Music   \n",
      "655268           Jangan Panggil Gue Pak Haji - Episode 43        TV Show   \n",
      "\n",
      "                         film_title        season_name             genre_name  \\\n",
      "268906      While You Were Sleeping           Season 1  Korean Series,Romance   \n",
      "353773                Samudra Cinta       Episode 1-50               Sinetron   \n",
      "382401           Cinta Karena Cinta  Episode 201 - 300               Sinetron   \n",
      "397272                Samudra Cinta       Episode 1-50               Sinetron   \n",
      "416792                          NaN                NaN                    NaN   \n",
      "606097                          NaN                NaN                    NaN   \n",
      "655268  Jangan Panggil Gue Pak Haji           Season 1               Sinetron   \n",
      "\n",
      "         play_date  \n",
      "268906  2020-02-08  \n",
      "353773  2020-02-06  \n",
      "382401  2020-02-04  \n",
      "397272  2020-02-12  \n",
      "416792  2020-02-09  \n",
      "606097  2020-02-06  \n",
      "655268  2020-02-02  \n",
      "\n",
      "[7 rows x 42 columns]\n"
     ]
    }
   ],
   "source": [
    "#check the duplicated data based on 2 columns\n",
    "duplicateRowsDF = df[df.duplicated(['hash_play_id', 'play_duration'])]\n",
    "print(\"Duplicate Rows based on 2 columns are:\", duplicateRowsDF, sep='\\n')\n"
   ]
  },
  {
   "cell_type": "code",
   "execution_count": 13,
   "metadata": {},
   "outputs": [
    {
     "data": {
      "text/html": [
       "<div>\n",
       "<style scoped>\n",
       "    .dataframe tbody tr th:only-of-type {\n",
       "        vertical-align: middle;\n",
       "    }\n",
       "\n",
       "    .dataframe tbody tr th {\n",
       "        vertical-align: top;\n",
       "    }\n",
       "\n",
       "    .dataframe thead th {\n",
       "        text-align: right;\n",
       "    }\n",
       "</style>\n",
       "<table border=\"1\" class=\"dataframe\">\n",
       "  <thead>\n",
       "    <tr style=\"text-align: right;\">\n",
       "      <th></th>\n",
       "      <th>hash_content_id</th>\n",
       "      <th>hash_play_id</th>\n",
       "      <th>hash_visit_id</th>\n",
       "      <th>hash_watcher_id</th>\n",
       "      <th>hash_film_id</th>\n",
       "      <th>hash_event_id</th>\n",
       "      <th>is_login</th>\n",
       "      <th>playback_location</th>\n",
       "      <th>platform</th>\n",
       "      <th>play_time</th>\n",
       "      <th>...</th>\n",
       "      <th>city</th>\n",
       "      <th>play_duration</th>\n",
       "      <th>content_type</th>\n",
       "      <th>stream_type</th>\n",
       "      <th>title</th>\n",
       "      <th>category_name</th>\n",
       "      <th>film_title</th>\n",
       "      <th>season_name</th>\n",
       "      <th>genre_name</th>\n",
       "      <th>play_date</th>\n",
       "    </tr>\n",
       "  </thead>\n",
       "  <tbody>\n",
       "    <tr>\n",
       "      <th>0</th>\n",
       "      <td>003f6dad4ab48a4e39ea262b19e3b42a4b53c2175078b3...</td>\n",
       "      <td>515dd4d7af23ae9ef5a2455bc97ee765fe86224ebaca71...</td>\n",
       "      <td>ed8d97adbba52562575973553003d9a13b103bc4693a6c...</td>\n",
       "      <td>3ba64f349972d4c7c05eb08e6b91db156a91af555ded6f...</td>\n",
       "      <td>NaN</td>\n",
       "      <td>175c473e6bbf67c337bdbd14c9dbdf01c627bfe5af17c1...</td>\n",
       "      <td>True</td>\n",
       "      <td>direct</td>\n",
       "      <td>tv-android</td>\n",
       "      <td>12:07:00</td>\n",
       "      <td>...</td>\n",
       "      <td>NaN</td>\n",
       "      <td>1263</td>\n",
       "      <td>vod</td>\n",
       "      <td>NaN</td>\n",
       "      <td>FTV SCTV - Kecubit Cinta Sahabat Chantiq</td>\n",
       "      <td>Movies</td>\n",
       "      <td>NaN</td>\n",
       "      <td>NaN</td>\n",
       "      <td>NaN</td>\n",
       "      <td>2020-02-15</td>\n",
       "    </tr>\n",
       "    <tr>\n",
       "      <th>1</th>\n",
       "      <td>0079c67ae8c7f6cbd44768f1988196c137326f3058d995...</td>\n",
       "      <td>047f7b21bcb1a57119229958b11abe364ce1a279f8ae00...</td>\n",
       "      <td>88a404df574ba3c637bb99e94a2e51b16114f5da6f99cd...</td>\n",
       "      <td>36fd7b04f88ef3d6f16326ae4a39fcf2e4b1dec052919c...</td>\n",
       "      <td>NaN</td>\n",
       "      <td>6f8d1372d0128e141c7ef87649d9ec46328d327c2a21d4...</td>\n",
       "      <td>False</td>\n",
       "      <td>embed</td>\n",
       "      <td>web-mobile</td>\n",
       "      <td>18:37:52</td>\n",
       "      <td>...</td>\n",
       "      <td>NaN</td>\n",
       "      <td>0</td>\n",
       "      <td>vod</td>\n",
       "      <td>NaN</td>\n",
       "      <td>Viral Seorang Siswi Dibully di Kelas, Gubernur...</td>\n",
       "      <td>News</td>\n",
       "      <td>NaN</td>\n",
       "      <td>NaN</td>\n",
       "      <td>NaN</td>\n",
       "      <td>2020-02-14</td>\n",
       "    </tr>\n",
       "  </tbody>\n",
       "</table>\n",
       "<p>2 rows × 42 columns</p>\n",
       "</div>"
      ],
      "text/plain": [
       "                                     hash_content_id  \\\n",
       "0  003f6dad4ab48a4e39ea262b19e3b42a4b53c2175078b3...   \n",
       "1  0079c67ae8c7f6cbd44768f1988196c137326f3058d995...   \n",
       "\n",
       "                                        hash_play_id  \\\n",
       "0  515dd4d7af23ae9ef5a2455bc97ee765fe86224ebaca71...   \n",
       "1  047f7b21bcb1a57119229958b11abe364ce1a279f8ae00...   \n",
       "\n",
       "                                       hash_visit_id  \\\n",
       "0  ed8d97adbba52562575973553003d9a13b103bc4693a6c...   \n",
       "1  88a404df574ba3c637bb99e94a2e51b16114f5da6f99cd...   \n",
       "\n",
       "                                     hash_watcher_id hash_film_id  \\\n",
       "0  3ba64f349972d4c7c05eb08e6b91db156a91af555ded6f...          NaN   \n",
       "1  36fd7b04f88ef3d6f16326ae4a39fcf2e4b1dec052919c...          NaN   \n",
       "\n",
       "                                       hash_event_id  is_login  \\\n",
       "0  175c473e6bbf67c337bdbd14c9dbdf01c627bfe5af17c1...      True   \n",
       "1  6f8d1372d0128e141c7ef87649d9ec46328d327c2a21d4...     False   \n",
       "\n",
       "  playback_location    platform play_time  ... city play_duration  \\\n",
       "0            direct  tv-android  12:07:00  ...  NaN          1263   \n",
       "1             embed  web-mobile  18:37:52  ...  NaN             0   \n",
       "\n",
       "   content_type stream_type  \\\n",
       "0           vod         NaN   \n",
       "1           vod         NaN   \n",
       "\n",
       "                                               title  category_name  \\\n",
       "0           FTV SCTV - Kecubit Cinta Sahabat Chantiq         Movies   \n",
       "1  Viral Seorang Siswi Dibully di Kelas, Gubernur...           News   \n",
       "\n",
       "  film_title season_name genre_name   play_date  \n",
       "0        NaN         NaN        NaN  2020-02-15  \n",
       "1        NaN         NaN        NaN  2020-02-14  \n",
       "\n",
       "[2 rows x 42 columns]"
      ]
     },
     "execution_count": 13,
     "metadata": {},
     "output_type": "execute_result"
    }
   ],
   "source": [
    "#Drop the duplicate \n",
    "df.drop([268906, 353773, 606097,372654,382401,397272, 416792], axis=0)\n",
    "df.head(2)"
   ]
  },
  {
   "cell_type": "markdown",
   "metadata": {},
   "source": [
    "I choose searching the duplicated data according to the main index. therefore the duplicated data will be terminated. It will be approached with 2 factors that is from the main index and main numerical factor"
   ]
  },
  {
   "cell_type": "code",
   "execution_count": 14,
   "metadata": {},
   "outputs": [
    {
     "data": {
      "text/html": [
       "<div>\n",
       "<style scoped>\n",
       "    .dataframe tbody tr th:only-of-type {\n",
       "        vertical-align: middle;\n",
       "    }\n",
       "\n",
       "    .dataframe tbody tr th {\n",
       "        vertical-align: top;\n",
       "    }\n",
       "\n",
       "    .dataframe thead th {\n",
       "        text-align: right;\n",
       "    }\n",
       "</style>\n",
       "<table border=\"1\" class=\"dataframe\">\n",
       "  <thead>\n",
       "    <tr style=\"text-align: right;\">\n",
       "      <th></th>\n",
       "      <th>hash_content_id</th>\n",
       "      <th>hash_play_id</th>\n",
       "      <th>hash_visit_id</th>\n",
       "      <th>hash_watcher_id</th>\n",
       "      <th>hash_film_id</th>\n",
       "      <th>hash_event_id</th>\n",
       "      <th>is_login</th>\n",
       "      <th>playback_location</th>\n",
       "      <th>platform</th>\n",
       "      <th>play_time</th>\n",
       "      <th>...</th>\n",
       "      <th>city</th>\n",
       "      <th>play_duration</th>\n",
       "      <th>content_type</th>\n",
       "      <th>stream_type</th>\n",
       "      <th>title</th>\n",
       "      <th>category_name</th>\n",
       "      <th>film_title</th>\n",
       "      <th>season_name</th>\n",
       "      <th>genre_name</th>\n",
       "      <th>play_date</th>\n",
       "    </tr>\n",
       "  </thead>\n",
       "  <tbody>\n",
       "    <tr>\n",
       "      <th>0</th>\n",
       "      <td>003f6dad4ab48a4e39ea262b19e3b42a4b53c2175078b3...</td>\n",
       "      <td>515dd4d7af23ae9ef5a2455bc97ee765fe86224ebaca71...</td>\n",
       "      <td>ed8d97adbba52562575973553003d9a13b103bc4693a6c...</td>\n",
       "      <td>3ba64f349972d4c7c05eb08e6b91db156a91af555ded6f...</td>\n",
       "      <td>NaN</td>\n",
       "      <td>175c473e6bbf67c337bdbd14c9dbdf01c627bfe5af17c1...</td>\n",
       "      <td>True</td>\n",
       "      <td>direct</td>\n",
       "      <td>tv-android</td>\n",
       "      <td>12:07:00</td>\n",
       "      <td>...</td>\n",
       "      <td>NaN</td>\n",
       "      <td>1263</td>\n",
       "      <td>vod</td>\n",
       "      <td>NaN</td>\n",
       "      <td>FTV SCTV - Kecubit Cinta Sahabat Chantiq</td>\n",
       "      <td>Movies</td>\n",
       "      <td>NaN</td>\n",
       "      <td>NaN</td>\n",
       "      <td>NaN</td>\n",
       "      <td>2020-02-15</td>\n",
       "    </tr>\n",
       "    <tr>\n",
       "      <th>1</th>\n",
       "      <td>0079c67ae8c7f6cbd44768f1988196c137326f3058d995...</td>\n",
       "      <td>047f7b21bcb1a57119229958b11abe364ce1a279f8ae00...</td>\n",
       "      <td>88a404df574ba3c637bb99e94a2e51b16114f5da6f99cd...</td>\n",
       "      <td>36fd7b04f88ef3d6f16326ae4a39fcf2e4b1dec052919c...</td>\n",
       "      <td>NaN</td>\n",
       "      <td>6f8d1372d0128e141c7ef87649d9ec46328d327c2a21d4...</td>\n",
       "      <td>False</td>\n",
       "      <td>embed</td>\n",
       "      <td>web-mobile</td>\n",
       "      <td>18:37:52</td>\n",
       "      <td>...</td>\n",
       "      <td>NaN</td>\n",
       "      <td>0</td>\n",
       "      <td>vod</td>\n",
       "      <td>NaN</td>\n",
       "      <td>Viral Seorang Siswi Dibully di Kelas, Gubernur...</td>\n",
       "      <td>News</td>\n",
       "      <td>NaN</td>\n",
       "      <td>NaN</td>\n",
       "      <td>NaN</td>\n",
       "      <td>2020-02-14</td>\n",
       "    </tr>\n",
       "    <tr>\n",
       "      <th>2</th>\n",
       "      <td>0079c67ae8c7f6cbd44768f1988196c137326f3058d995...</td>\n",
       "      <td>2623b2970635a15f1cf12bf9aa1e4d545135593e6a860c...</td>\n",
       "      <td>24abc04f114c9cb0c2087568093a909f04b3a567041fff...</td>\n",
       "      <td>4906987a7a6c3e27895e1adfd200d38e4f4fd87eb9ce96...</td>\n",
       "      <td>NaN</td>\n",
       "      <td>e73122fb4da263f0825c2ae5ac5c5a18da3a45c44b49e6...</td>\n",
       "      <td>False</td>\n",
       "      <td>embed</td>\n",
       "      <td>web-mobile</td>\n",
       "      <td>11:58:24</td>\n",
       "      <td>...</td>\n",
       "      <td>NaN</td>\n",
       "      <td>8</td>\n",
       "      <td>vod</td>\n",
       "      <td>NaN</td>\n",
       "      <td>Viral Seorang Siswi Dibully di Kelas, Gubernur...</td>\n",
       "      <td>News</td>\n",
       "      <td>NaN</td>\n",
       "      <td>NaN</td>\n",
       "      <td>NaN</td>\n",
       "      <td>2020-02-15</td>\n",
       "    </tr>\n",
       "    <tr>\n",
       "      <th>3</th>\n",
       "      <td>0079c67ae8c7f6cbd44768f1988196c137326f3058d995...</td>\n",
       "      <td>4850defe8308149c097ff7adfe6fbdab1385a4d2ea7038...</td>\n",
       "      <td>f1279ae82e3c45f7591ad8e43f69a87d7444bf1c4b70b1...</td>\n",
       "      <td>adaf91b743f2f1d7b93819b22c016ca700182bd1a5b854...</td>\n",
       "      <td>NaN</td>\n",
       "      <td>1e8d1186fbc7677e10aa4a512f20ec01348e3e7f9e4cb7...</td>\n",
       "      <td>False</td>\n",
       "      <td>embed</td>\n",
       "      <td>web-mobile</td>\n",
       "      <td>06:36:08</td>\n",
       "      <td>...</td>\n",
       "      <td>NaN</td>\n",
       "      <td>53</td>\n",
       "      <td>vod</td>\n",
       "      <td>NaN</td>\n",
       "      <td>Viral Seorang Siswi Dibully di Kelas, Gubernur...</td>\n",
       "      <td>News</td>\n",
       "      <td>NaN</td>\n",
       "      <td>NaN</td>\n",
       "      <td>NaN</td>\n",
       "      <td>2020-02-15</td>\n",
       "    </tr>\n",
       "    <tr>\n",
       "      <th>4</th>\n",
       "      <td>0079c67ae8c7f6cbd44768f1988196c137326f3058d995...</td>\n",
       "      <td>ae0cb715407a6694fb052f4d25b9c87e97ab6ccafdb388...</td>\n",
       "      <td>151db218c9cbad4d9fa1b1196fd998a63a8314698580a6...</td>\n",
       "      <td>15689b6aebb6b896c7fdadb516c9754a34a2fcfb772dc3...</td>\n",
       "      <td>NaN</td>\n",
       "      <td>210d2693895749e26711ee890ef41c461994ce91a673aa...</td>\n",
       "      <td>False</td>\n",
       "      <td>embed</td>\n",
       "      <td>web-mobile</td>\n",
       "      <td>01:53:03</td>\n",
       "      <td>...</td>\n",
       "      <td>NaN</td>\n",
       "      <td>53</td>\n",
       "      <td>vod</td>\n",
       "      <td>NaN</td>\n",
       "      <td>Viral Seorang Siswi Dibully di Kelas, Gubernur...</td>\n",
       "      <td>News</td>\n",
       "      <td>NaN</td>\n",
       "      <td>NaN</td>\n",
       "      <td>NaN</td>\n",
       "      <td>2020-02-15</td>\n",
       "    </tr>\n",
       "  </tbody>\n",
       "</table>\n",
       "<p>5 rows × 42 columns</p>\n",
       "</div>"
      ],
      "text/plain": [
       "                                     hash_content_id  \\\n",
       "0  003f6dad4ab48a4e39ea262b19e3b42a4b53c2175078b3...   \n",
       "1  0079c67ae8c7f6cbd44768f1988196c137326f3058d995...   \n",
       "2  0079c67ae8c7f6cbd44768f1988196c137326f3058d995...   \n",
       "3  0079c67ae8c7f6cbd44768f1988196c137326f3058d995...   \n",
       "4  0079c67ae8c7f6cbd44768f1988196c137326f3058d995...   \n",
       "\n",
       "                                        hash_play_id  \\\n",
       "0  515dd4d7af23ae9ef5a2455bc97ee765fe86224ebaca71...   \n",
       "1  047f7b21bcb1a57119229958b11abe364ce1a279f8ae00...   \n",
       "2  2623b2970635a15f1cf12bf9aa1e4d545135593e6a860c...   \n",
       "3  4850defe8308149c097ff7adfe6fbdab1385a4d2ea7038...   \n",
       "4  ae0cb715407a6694fb052f4d25b9c87e97ab6ccafdb388...   \n",
       "\n",
       "                                       hash_visit_id  \\\n",
       "0  ed8d97adbba52562575973553003d9a13b103bc4693a6c...   \n",
       "1  88a404df574ba3c637bb99e94a2e51b16114f5da6f99cd...   \n",
       "2  24abc04f114c9cb0c2087568093a909f04b3a567041fff...   \n",
       "3  f1279ae82e3c45f7591ad8e43f69a87d7444bf1c4b70b1...   \n",
       "4  151db218c9cbad4d9fa1b1196fd998a63a8314698580a6...   \n",
       "\n",
       "                                     hash_watcher_id hash_film_id  \\\n",
       "0  3ba64f349972d4c7c05eb08e6b91db156a91af555ded6f...          NaN   \n",
       "1  36fd7b04f88ef3d6f16326ae4a39fcf2e4b1dec052919c...          NaN   \n",
       "2  4906987a7a6c3e27895e1adfd200d38e4f4fd87eb9ce96...          NaN   \n",
       "3  adaf91b743f2f1d7b93819b22c016ca700182bd1a5b854...          NaN   \n",
       "4  15689b6aebb6b896c7fdadb516c9754a34a2fcfb772dc3...          NaN   \n",
       "\n",
       "                                       hash_event_id  is_login  \\\n",
       "0  175c473e6bbf67c337bdbd14c9dbdf01c627bfe5af17c1...      True   \n",
       "1  6f8d1372d0128e141c7ef87649d9ec46328d327c2a21d4...     False   \n",
       "2  e73122fb4da263f0825c2ae5ac5c5a18da3a45c44b49e6...     False   \n",
       "3  1e8d1186fbc7677e10aa4a512f20ec01348e3e7f9e4cb7...     False   \n",
       "4  210d2693895749e26711ee890ef41c461994ce91a673aa...     False   \n",
       "\n",
       "  playback_location    platform play_time  ... city play_duration  \\\n",
       "0            direct  tv-android  12:07:00  ...  NaN          1263   \n",
       "1             embed  web-mobile  18:37:52  ...  NaN             0   \n",
       "2             embed  web-mobile  11:58:24  ...  NaN             8   \n",
       "3             embed  web-mobile  06:36:08  ...  NaN            53   \n",
       "4             embed  web-mobile  01:53:03  ...  NaN            53   \n",
       "\n",
       "   content_type stream_type  \\\n",
       "0           vod         NaN   \n",
       "1           vod         NaN   \n",
       "2           vod         NaN   \n",
       "3           vod         NaN   \n",
       "4           vod         NaN   \n",
       "\n",
       "                                               title  category_name  \\\n",
       "0           FTV SCTV - Kecubit Cinta Sahabat Chantiq         Movies   \n",
       "1  Viral Seorang Siswi Dibully di Kelas, Gubernur...           News   \n",
       "2  Viral Seorang Siswi Dibully di Kelas, Gubernur...           News   \n",
       "3  Viral Seorang Siswi Dibully di Kelas, Gubernur...           News   \n",
       "4  Viral Seorang Siswi Dibully di Kelas, Gubernur...           News   \n",
       "\n",
       "  film_title season_name genre_name   play_date  \n",
       "0        NaN         NaN        NaN  2020-02-15  \n",
       "1        NaN         NaN        NaN  2020-02-14  \n",
       "2        NaN         NaN        NaN  2020-02-15  \n",
       "3        NaN         NaN        NaN  2020-02-15  \n",
       "4        NaN         NaN        NaN  2020-02-15  \n",
       "\n",
       "[5 rows x 42 columns]"
      ]
     },
     "execution_count": 14,
     "metadata": {},
     "output_type": "execute_result"
    }
   ],
   "source": [
    "#Drop the null columns\n",
    "df.drop(\"city\", axis=1)\n",
    "df.head()"
   ]
  },
  {
   "cell_type": "markdown",
   "metadata": {},
   "source": [
    "We already done the preprocessing. Next step we are going to do exploration data analysis. exploration will consist of density, pearson corelation heatmap and other tools. "
   ]
  },
  {
   "cell_type": "markdown",
   "metadata": {},
   "source": [
    "# EDA"
   ]
  },
  {
   "cell_type": "markdown",
   "metadata": {},
   "source": [
    "In EDA, we observe the data to determine its corelation, distribution and determine other effect to choose which machine learning that applicable on the dataset"
   ]
  },
  {
   "cell_type": "markdown",
   "metadata": {},
   "source": [
    "I tried the corelation map but the index count is too big. Therefore I need to parting the data so it will give clearer visualization. The index that I am going to determine is play_duration, category code\n"
   ]
  },
  {
   "cell_type": "code",
   "execution_count": 240,
   "metadata": {
    "scrolled": true
   },
   "outputs": [
    {
     "data": {
      "text/html": [
       "<div>\n",
       "<style scoped>\n",
       "    .dataframe tbody tr th:only-of-type {\n",
       "        vertical-align: middle;\n",
       "    }\n",
       "\n",
       "    .dataframe tbody tr th {\n",
       "        vertical-align: top;\n",
       "    }\n",
       "\n",
       "    .dataframe thead th {\n",
       "        text-align: right;\n",
       "    }\n",
       "</style>\n",
       "<table border=\"1\" class=\"dataframe\">\n",
       "  <thead>\n",
       "    <tr style=\"text-align: right;\">\n",
       "      <th></th>\n",
       "      <th>play_time</th>\n",
       "      <th>category_name</th>\n",
       "      <th>play_duration</th>\n",
       "    </tr>\n",
       "  </thead>\n",
       "  <tbody>\n",
       "    <tr>\n",
       "      <th>0</th>\n",
       "      <td>12:07:00</td>\n",
       "      <td>Movies</td>\n",
       "      <td>1263</td>\n",
       "    </tr>\n",
       "    <tr>\n",
       "      <th>1</th>\n",
       "      <td>18:37:52</td>\n",
       "      <td>News</td>\n",
       "      <td>0</td>\n",
       "    </tr>\n",
       "    <tr>\n",
       "      <th>2</th>\n",
       "      <td>11:58:24</td>\n",
       "      <td>News</td>\n",
       "      <td>8</td>\n",
       "    </tr>\n",
       "    <tr>\n",
       "      <th>3</th>\n",
       "      <td>06:36:08</td>\n",
       "      <td>News</td>\n",
       "      <td>53</td>\n",
       "    </tr>\n",
       "    <tr>\n",
       "      <th>4</th>\n",
       "      <td>01:53:03</td>\n",
       "      <td>News</td>\n",
       "      <td>53</td>\n",
       "    </tr>\n",
       "  </tbody>\n",
       "</table>\n",
       "</div>"
      ],
      "text/plain": [
       "  play_time category_name  play_duration\n",
       "0  12:07:00        Movies           1263\n",
       "1  18:37:52          News              0\n",
       "2  11:58:24          News              8\n",
       "3  06:36:08          News             53\n",
       "4  01:53:03          News             53"
      ]
     },
     "execution_count": 240,
     "metadata": {},
     "output_type": "execute_result"
    }
   ],
   "source": [
    "#create the dummy using important parameter\n",
    "new = df[['play_time', 'category_name', 'play_duration']].copy()\n",
    "new.head()\n",
    "\n"
   ]
  },
  {
   "cell_type": "code",
   "execution_count": 16,
   "metadata": {
    "scrolled": true
   },
   "outputs": [
    {
     "data": {
      "text/html": [
       "<div>\n",
       "<style scoped>\n",
       "    .dataframe tbody tr th:only-of-type {\n",
       "        vertical-align: middle;\n",
       "    }\n",
       "\n",
       "    .dataframe tbody tr th {\n",
       "        vertical-align: top;\n",
       "    }\n",
       "\n",
       "    .dataframe thead th {\n",
       "        text-align: right;\n",
       "    }\n",
       "</style>\n",
       "<table border=\"1\" class=\"dataframe\">\n",
       "  <thead>\n",
       "    <tr style=\"text-align: right;\">\n",
       "      <th></th>\n",
       "      <th>play_time</th>\n",
       "      <th>category_name</th>\n",
       "      <th>play_duration</th>\n",
       "      <th>view_time</th>\n",
       "    </tr>\n",
       "  </thead>\n",
       "  <tbody>\n",
       "    <tr>\n",
       "      <th>0</th>\n",
       "      <td>12:07:00</td>\n",
       "      <td>Movies</td>\n",
       "      <td>1263</td>\n",
       "      <td>12</td>\n",
       "    </tr>\n",
       "    <tr>\n",
       "      <th>1</th>\n",
       "      <td>18:37:52</td>\n",
       "      <td>News</td>\n",
       "      <td>0</td>\n",
       "      <td>18</td>\n",
       "    </tr>\n",
       "  </tbody>\n",
       "</table>\n",
       "</div>"
      ],
      "text/plain": [
       "  play_time category_name  play_duration  view_time\n",
       "0  12:07:00        Movies           1263         12\n",
       "1  18:37:52          News              0         18"
      ]
     },
     "execution_count": 16,
     "metadata": {},
     "output_type": "execute_result"
    }
   ],
   "source": [
    "#change the datatype\n",
    "new['play_time'] = new['play_time'].astype('str')\n",
    "\n",
    "#encoding the time \n",
    "new['play_time'] = new['play_time'].map(lambda x: x.lstrip('play_time'[:-6]))\n",
    "new['view_time']=new['play_time'].apply(lambda x: x.split(':')[0])\n",
    "new['view_time'] = new['view_time'].astype('int64')\n",
    "new['view_time'].unique()\n",
    "\n",
    "new.head(2)"
   ]
  },
  {
   "cell_type": "code",
   "execution_count": 17,
   "metadata": {},
   "outputs": [
    {
     "data": {
      "text/html": [
       "<div>\n",
       "<style scoped>\n",
       "    .dataframe tbody tr th:only-of-type {\n",
       "        vertical-align: middle;\n",
       "    }\n",
       "\n",
       "    .dataframe tbody tr th {\n",
       "        vertical-align: top;\n",
       "    }\n",
       "\n",
       "    .dataframe thead th {\n",
       "        text-align: right;\n",
       "    }\n",
       "</style>\n",
       "<table border=\"1\" class=\"dataframe\">\n",
       "  <thead>\n",
       "    <tr style=\"text-align: right;\">\n",
       "      <th></th>\n",
       "      <th>play_time</th>\n",
       "      <th>category_name</th>\n",
       "      <th>play_duration</th>\n",
       "      <th>view_time</th>\n",
       "      <th>category_code</th>\n",
       "    </tr>\n",
       "  </thead>\n",
       "  <tbody>\n",
       "    <tr>\n",
       "      <th>0</th>\n",
       "      <td>12:07:00</td>\n",
       "      <td>Movies</td>\n",
       "      <td>1263</td>\n",
       "      <td>12</td>\n",
       "      <td>Movies</td>\n",
       "    </tr>\n",
       "    <tr>\n",
       "      <th>1</th>\n",
       "      <td>18:37:52</td>\n",
       "      <td>News</td>\n",
       "      <td>0</td>\n",
       "      <td>18</td>\n",
       "      <td>News</td>\n",
       "    </tr>\n",
       "    <tr>\n",
       "      <th>2</th>\n",
       "      <td>11:58:24</td>\n",
       "      <td>News</td>\n",
       "      <td>8</td>\n",
       "      <td>11</td>\n",
       "      <td>News</td>\n",
       "    </tr>\n",
       "    <tr>\n",
       "      <th>3</th>\n",
       "      <td>06:36:08</td>\n",
       "      <td>News</td>\n",
       "      <td>53</td>\n",
       "      <td>6</td>\n",
       "      <td>News</td>\n",
       "    </tr>\n",
       "    <tr>\n",
       "      <th>4</th>\n",
       "      <td>01:53:03</td>\n",
       "      <td>News</td>\n",
       "      <td>53</td>\n",
       "      <td>1</td>\n",
       "      <td>News</td>\n",
       "    </tr>\n",
       "  </tbody>\n",
       "</table>\n",
       "</div>"
      ],
      "text/plain": [
       "  play_time category_name  play_duration  view_time category_code\n",
       "0  12:07:00        Movies           1263         12        Movies\n",
       "1  18:37:52          News              0         18          News\n",
       "2  11:58:24          News              8         11          News\n",
       "3  06:36:08          News             53          6          News\n",
       "4  01:53:03          News             53          1          News"
      ]
     },
     "execution_count": 17,
     "metadata": {},
     "output_type": "execute_result"
    }
   ],
   "source": [
    "#create the encoding for category type\n",
    "new['category_code'] = new['category_name']\n",
    "new.head()"
   ]
  },
  {
   "cell_type": "code",
   "execution_count": 18,
   "metadata": {
    "scrolled": true
   },
   "outputs": [
    {
     "data": {
      "text/html": [
       "<div>\n",
       "<style scoped>\n",
       "    .dataframe tbody tr th:only-of-type {\n",
       "        vertical-align: middle;\n",
       "    }\n",
       "\n",
       "    .dataframe tbody tr th {\n",
       "        vertical-align: top;\n",
       "    }\n",
       "\n",
       "    .dataframe thead th {\n",
       "        text-align: right;\n",
       "    }\n",
       "</style>\n",
       "<table border=\"1\" class=\"dataframe\">\n",
       "  <thead>\n",
       "    <tr style=\"text-align: right;\">\n",
       "      <th></th>\n",
       "      <th>play_time</th>\n",
       "      <th>category_name</th>\n",
       "      <th>play_duration</th>\n",
       "      <th>view_time</th>\n",
       "      <th>category_code</th>\n",
       "    </tr>\n",
       "  </thead>\n",
       "  <tbody>\n",
       "    <tr>\n",
       "      <th>0</th>\n",
       "      <td>12:07:00</td>\n",
       "      <td>Movies</td>\n",
       "      <td>1263</td>\n",
       "      <td>12</td>\n",
       "      <td>1</td>\n",
       "    </tr>\n",
       "    <tr>\n",
       "      <th>1</th>\n",
       "      <td>18:37:52</td>\n",
       "      <td>News</td>\n",
       "      <td>0</td>\n",
       "      <td>18</td>\n",
       "      <td>2</td>\n",
       "    </tr>\n",
       "  </tbody>\n",
       "</table>\n",
       "</div>"
      ],
      "text/plain": [
       "  play_time category_name  play_duration  view_time  category_code\n",
       "0  12:07:00        Movies           1263         12              1\n",
       "1  18:37:52          News              0         18              2"
      ]
     },
     "execution_count": 18,
     "metadata": {},
     "output_type": "execute_result"
    }
   ],
   "source": [
    "#encoding the category into category code\n",
    "new['category_code'].unique()\n",
    "def category_code(x):\n",
    "    segment = ''\n",
    "    if  x['category_code'] == 'Movies' :\n",
    "        segment = 1\n",
    "    elif x['category_code'] == 'News' :\n",
    "        segment = 2\n",
    "    elif x['category_code'] == 'Entertainment' :\n",
    "        segment = 3\n",
    "    elif x['category_code'] == 'Sports' :\n",
    "        segment = 4\n",
    "    elif x['category_code'] == 'TV Show' :\n",
    "        segment = 5\n",
    "    elif x['category_code'] == 'Korea' :\n",
    "        segment = 6\n",
    "    elif x['category_code'] == 'Lifestyle' :\n",
    "        segment = 7\n",
    "    elif x['category_code'] == 'Vlog' :\n",
    "        segment = 8\n",
    "    elif x['category_code'] == 'Horror' :\n",
    "        segment = 9\n",
    "    elif x['category_code'] == 'Kids' :\n",
    "        segment = 10\n",
    "    elif x['category_code'] == 'Funny' :\n",
    "        segment = 11\n",
    "    elif x['category_code'] == 'Education' :\n",
    "        segment = 12\n",
    "    elif x['category_code'] == 'Webtoon' :\n",
    "        segment = 13\n",
    "    elif x['category_code'] == 'Champions' :\n",
    "        segment = 14\n",
    "    else:\n",
    "        segment = 15\n",
    "    return segment\n",
    "\n",
    "new['category_code'] = new.apply(lambda x : category_code(x), axis=1)\n",
    "new.head(2)"
   ]
  },
  {
   "cell_type": "markdown",
   "metadata": {},
   "source": [
    "After encoding all the usable index. We are going to test the outliers, density and corelation"
   ]
  },
  {
   "cell_type": "code",
   "execution_count": 19,
   "metadata": {},
   "outputs": [
    {
     "data": {
      "text/plain": [
       "<AxesSubplot:xlabel='play_duration', ylabel='Density'>"
      ]
     },
     "execution_count": 19,
     "metadata": {},
     "output_type": "execute_result"
    },
    {
     "data": {
      "image/png": "[encoded data removed]",
      "text/plain": [
       "<Figure size 432x288 with 1 Axes>"
      ]
     },
     "metadata": {
      "needs_background": "light"
     },
     "output_type": "display_data"
    }
   ],
   "source": [
    "#Checking the density of the Data\n",
    "sns.distplot(new['play_duration'])\n"
   ]
  },
  {
   "cell_type": "code",
   "execution_count": 20,
   "metadata": {
    "scrolled": false
   },
   "outputs": [
    {
     "data": {
      "text/plain": [
       "Text(0.5, 1.0, 'pearson correlation')"
      ]
     },
     "execution_count": 20,
     "metadata": {},
     "output_type": "execute_result"
    },
    {
     "data": {
      "image/png": "[encoded data removed]",
      "text/plain": [
       "<Figure size 432x288 with 2 Axes>"
      ]
     },
     "metadata": {
      "needs_background": "light"
     },
     "output_type": "display_data"
    }
   ],
   "source": [
    "\n",
    "#Checking the corelation\n",
    "corr_matrix = new.copy()\n",
    "for col in corr_matrix.columns:\n",
    "    if corr_matrix[col].dtype == \"O\":\n",
    "         corr_matrix[col] = corr_matrix[col].factorize(sort=True)[0]\n",
    "corr_matrix = corr_matrix.corr(method=\"pearson\")\n",
    "sns.heatmap(corr_matrix, vmin=-1., vmax=1., annot=True, fmt='.2f', cmap=\"YlGnBu\", cbar=True, linewidths=0.5)\n",
    "plt.title(\"pearson correlation\")"
   ]
  },
  {
   "cell_type": "code",
   "execution_count": 21,
   "metadata": {
    "scrolled": true
   },
   "outputs": [
    {
     "data": {
      "image/png": "[encoded data removed]",
      "text/plain": [
       "<Figure size 360x360 with 1 Axes>"
      ]
     },
     "metadata": {
      "needs_background": "light"
     },
     "output_type": "display_data"
    }
   ],
   "source": [
    "#Checking the outlier\n",
    "sns.lmplot( 'view_time','play_duration', data=new);\n",
    "plt.title('play duration per category');"
   ]
  },
  {
   "cell_type": "markdown",
   "metadata": {},
   "source": [
    "The density is to close to 0 values. therefore I have to check again and consider to delete data with play duration that is too short and also to minimize the noise. There are some outliers but not much so we are going to delete it"
   ]
  },
  {
   "cell_type": "markdown",
   "metadata": {},
   "source": [
    "# Reprocessing Data (Cleansing )"
   ]
  },
  {
   "cell_type": "markdown",
   "metadata": {},
   "source": [
    "Since the data according to EDA contains much 0 value and the variates is really diverse. The data will be reprocessed again to minimize the outliers and narrowing the variance"
   ]
  },
  {
   "cell_type": "code",
   "execution_count": 91,
   "metadata": {},
   "outputs": [
    {
     "name": "stdout",
     "output_type": "stream",
     "text": [
      "<class 'pandas.core.frame.DataFrame'>\n",
      "Int64Index: 220847 entries, 0 to 742581\n",
      "Data columns (total 6 columns):\n",
      " #   Column         Non-Null Count   Dtype \n",
      "---  ------         --------------   ----- \n",
      " 0   play_time      220847 non-null  object\n",
      " 1   category_name  217311 non-null  object\n",
      " 2   play_duration  220847 non-null  int64 \n",
      " 3   view_time      220847 non-null  int64 \n",
      " 4   category_code  220847 non-null  int64 \n",
      " 5   label          220847 non-null  int32 \n",
      "dtypes: int32(1), int64(3), object(2)\n",
      "memory usage: 21.0+ MB\n"
     ]
    }
   ],
   "source": [
    "new.info()"
   ]
  },
  {
   "cell_type": "markdown",
   "metadata": {},
   "source": [
    "The category_name contains NaN which should be dropped"
   ]
  },
  {
   "cell_type": "code",
   "execution_count": 92,
   "metadata": {
    "scrolled": false
   },
   "outputs": [
    {
     "data": {
      "text/plain": [
       "0                Movies\n",
       "3                  News\n",
       "4                  News\n",
       "5                  News\n",
       "6                 Music\n",
       "              ...      \n",
       "742573             News\n",
       "742574             News\n",
       "742576             News\n",
       "742577             News\n",
       "742581    Entertainment\n",
       "Name: category_name, Length: 217311, dtype: object"
      ]
     },
     "execution_count": 92,
     "metadata": {},
     "output_type": "execute_result"
    }
   ],
   "source": [
    "# Drop the null\n",
    "new['category_name'].dropna()"
   ]
  },
  {
   "cell_type": "code",
   "execution_count": 111,
   "metadata": {},
   "outputs": [
    {
     "name": "stdout",
     "output_type": "stream",
     "text": [
      "<class 'pandas.core.frame.DataFrame'>\n",
      "Int64Index: 220847 entries, 0 to 742581\n",
      "Data columns (total 6 columns):\n",
      " #   Column         Non-Null Count   Dtype \n",
      "---  ------         --------------   ----- \n",
      " 0   play_time      220847 non-null  object\n",
      " 1   category_name  217311 non-null  object\n",
      " 2   play_duration  220847 non-null  int64 \n",
      " 3   view_time      220847 non-null  int64 \n",
      " 4   category_code  220847 non-null  int64 \n",
      " 5   label          220847 non-null  int32 \n",
      "dtypes: int32(1), int64(3), object(2)\n",
      "memory usage: 21.0+ MB\n"
     ]
    }
   ],
   "source": [
    "new.info()"
   ]
  },
  {
   "cell_type": "code",
   "execution_count": 22,
   "metadata": {},
   "outputs": [],
   "source": [
    "#drop the criterion\n",
    "new.drop(new.index[new['play_duration'].between(0, 30)], inplace = True)"
   ]
  },
  {
   "cell_type": "code",
   "execution_count": 23,
   "metadata": {},
   "outputs": [
    {
     "data": {
      "text/html": [
       "<div>\n",
       "<style scoped>\n",
       "    .dataframe tbody tr th:only-of-type {\n",
       "        vertical-align: middle;\n",
       "    }\n",
       "\n",
       "    .dataframe tbody tr th {\n",
       "        vertical-align: top;\n",
       "    }\n",
       "\n",
       "    .dataframe thead th {\n",
       "        text-align: right;\n",
       "    }\n",
       "</style>\n",
       "<table border=\"1\" class=\"dataframe\">\n",
       "  <thead>\n",
       "    <tr style=\"text-align: right;\">\n",
       "      <th></th>\n",
       "      <th>play_duration</th>\n",
       "      <th>view_time</th>\n",
       "      <th>category_code</th>\n",
       "    </tr>\n",
       "  </thead>\n",
       "  <tbody>\n",
       "    <tr>\n",
       "      <th>count</th>\n",
       "      <td>220847.000000</td>\n",
       "      <td>220847.000000</td>\n",
       "      <td>220847.000000</td>\n",
       "    </tr>\n",
       "    <tr>\n",
       "      <th>mean</th>\n",
       "      <td>543.290876</td>\n",
       "      <td>9.910504</td>\n",
       "      <td>3.774500</td>\n",
       "    </tr>\n",
       "    <tr>\n",
       "      <th>std</th>\n",
       "      <td>1294.793938</td>\n",
       "      <td>6.200300</td>\n",
       "      <td>3.235931</td>\n",
       "    </tr>\n",
       "    <tr>\n",
       "      <th>min</th>\n",
       "      <td>31.000000</td>\n",
       "      <td>0.000000</td>\n",
       "      <td>1.000000</td>\n",
       "    </tr>\n",
       "    <tr>\n",
       "      <th>25%</th>\n",
       "      <td>48.000000</td>\n",
       "      <td>5.000000</td>\n",
       "      <td>2.000000</td>\n",
       "    </tr>\n",
       "    <tr>\n",
       "      <th>50%</th>\n",
       "      <td>69.000000</td>\n",
       "      <td>10.000000</td>\n",
       "      <td>3.000000</td>\n",
       "    </tr>\n",
       "    <tr>\n",
       "      <th>75%</th>\n",
       "      <td>152.000000</td>\n",
       "      <td>14.000000</td>\n",
       "      <td>4.000000</td>\n",
       "    </tr>\n",
       "    <tr>\n",
       "      <th>max</th>\n",
       "      <td>19001.000000</td>\n",
       "      <td>23.000000</td>\n",
       "      <td>15.000000</td>\n",
       "    </tr>\n",
       "  </tbody>\n",
       "</table>\n",
       "</div>"
      ],
      "text/plain": [
       "       play_duration      view_time  category_code\n",
       "count  220847.000000  220847.000000  220847.000000\n",
       "mean      543.290876       9.910504       3.774500\n",
       "std      1294.793938       6.200300       3.235931\n",
       "min        31.000000       0.000000       1.000000\n",
       "25%        48.000000       5.000000       2.000000\n",
       "50%        69.000000      10.000000       3.000000\n",
       "75%       152.000000      14.000000       4.000000\n",
       "max     19001.000000      23.000000      15.000000"
      ]
     },
     "execution_count": 23,
     "metadata": {},
     "output_type": "execute_result"
    }
   ],
   "source": [
    "#describe the data\n",
    "new.describe()"
   ]
  },
  {
   "cell_type": "code",
   "execution_count": 24,
   "metadata": {},
   "outputs": [
    {
     "data": {
      "text/html": [
       "<div>\n",
       "<style scoped>\n",
       "    .dataframe tbody tr th:only-of-type {\n",
       "        vertical-align: middle;\n",
       "    }\n",
       "\n",
       "    .dataframe tbody tr th {\n",
       "        vertical-align: top;\n",
       "    }\n",
       "\n",
       "    .dataframe thead th {\n",
       "        text-align: right;\n",
       "    }\n",
       "</style>\n",
       "<table border=\"1\" class=\"dataframe\">\n",
       "  <thead>\n",
       "    <tr style=\"text-align: right;\">\n",
       "      <th></th>\n",
       "      <th>play_duration</th>\n",
       "      <th>view_time</th>\n",
       "      <th>category_code</th>\n",
       "    </tr>\n",
       "  </thead>\n",
       "  <tbody>\n",
       "    <tr>\n",
       "      <th>count</th>\n",
       "      <td>220847.000000</td>\n",
       "      <td>220847.000000</td>\n",
       "      <td>220847.000000</td>\n",
       "    </tr>\n",
       "    <tr>\n",
       "      <th>mean</th>\n",
       "      <td>543.290876</td>\n",
       "      <td>9.910504</td>\n",
       "      <td>3.774500</td>\n",
       "    </tr>\n",
       "    <tr>\n",
       "      <th>std</th>\n",
       "      <td>1294.793938</td>\n",
       "      <td>6.200300</td>\n",
       "      <td>3.235931</td>\n",
       "    </tr>\n",
       "    <tr>\n",
       "      <th>min</th>\n",
       "      <td>31.000000</td>\n",
       "      <td>0.000000</td>\n",
       "      <td>1.000000</td>\n",
       "    </tr>\n",
       "    <tr>\n",
       "      <th>25%</th>\n",
       "      <td>48.000000</td>\n",
       "      <td>5.000000</td>\n",
       "      <td>2.000000</td>\n",
       "    </tr>\n",
       "    <tr>\n",
       "      <th>50%</th>\n",
       "      <td>69.000000</td>\n",
       "      <td>10.000000</td>\n",
       "      <td>3.000000</td>\n",
       "    </tr>\n",
       "    <tr>\n",
       "      <th>75%</th>\n",
       "      <td>152.000000</td>\n",
       "      <td>14.000000</td>\n",
       "      <td>4.000000</td>\n",
       "    </tr>\n",
       "    <tr>\n",
       "      <th>max</th>\n",
       "      <td>19001.000000</td>\n",
       "      <td>23.000000</td>\n",
       "      <td>15.000000</td>\n",
       "    </tr>\n",
       "  </tbody>\n",
       "</table>\n",
       "</div>"
      ],
      "text/plain": [
       "       play_duration      view_time  category_code\n",
       "count  220847.000000  220847.000000  220847.000000\n",
       "mean      543.290876       9.910504       3.774500\n",
       "std      1294.793938       6.200300       3.235931\n",
       "min        31.000000       0.000000       1.000000\n",
       "25%        48.000000       5.000000       2.000000\n",
       "50%        69.000000      10.000000       3.000000\n",
       "75%       152.000000      14.000000       4.000000\n",
       "max     19001.000000      23.000000      15.000000"
      ]
     },
     "execution_count": 24,
     "metadata": {},
     "output_type": "execute_result"
    }
   ],
   "source": [
    "#The outlier will be changed to the median. Because the density is right skew\n",
    "new.loc[new['play_duration'] > 60000, 'play_duration'] = 104\n",
    "new.describe()"
   ]
  },
  {
   "cell_type": "code",
   "execution_count": 25,
   "metadata": {},
   "outputs": [],
   "source": [
    "#Import again the package\n",
    "from sklearn.linear_model import SGDClassifier\n",
    "from sklearn.datasets import load_iris\n",
    "from sklearn.datasets import make_classification\n",
    "from sklearn.model_selection import train_test_split\n",
    "from sklearn.metrics import confusion_matrix\n",
    "from sklearn.metrics import classification_report\n",
    "from sklearn.preprocessing import scale"
   ]
  },
  {
   "cell_type": "code",
   "execution_count": 93,
   "metadata": {
    "scrolled": true
   },
   "outputs": [
    {
     "data": {
      "image/png": "[encoded data removed]",
      "text/plain": [
       "<Figure size 432x288 with 2 Axes>"
      ]
     },
     "metadata": {
      "needs_background": "light"
     },
     "output_type": "display_data"
    }
   ],
   "source": [
    "#Checking the distribution again\n",
    "x=['play_duration']\n",
    "fig, ax = plt.subplots(nrows=1, ncols=2,  sharex=False, sharey=False)\n",
    "fig.suptitle(['play_duration'], fontsize=20)\n",
    "# Distribution of the data\n",
    "ax[0].title.set_text('distribution')\n",
    "variable = new['play_duration'].fillna(new['play_duration'].mean())\n",
    "breaks = np.quantile(variable, q=np.linspace(0, 1, 11))\n",
    "variable = variable[ (variable > breaks[0]) & (variable < \n",
    "                    breaks[10]) ]\n",
    "sns.distplot(variable, hist=True, kde=True, kde_kws={\"shade\": True}, ax=ax[0])\n",
    "des = new['play_duration'].describe()\n",
    "ax[0].axvline(des[\"25%\"], ls='--')\n",
    "ax[0].axvline(des[\"mean\"], ls='--')\n",
    "ax[0].axvline(des[\"75%\"], ls='--')\n",
    "ax[0].grid(True)\n",
    "des = round(des, 2).apply(lambda x: str(x))\n",
    "box = '\\n'.join((\"min: \"+des[\"min\"], \"25%: \"+des[\"25%\"], \"mean: \"+des[\"mean\"], \"75%: \"+des[\"75%\"], \"max: \"+des[\"max\"]))\n",
    "ax[0].text(0.95, 0.95, box, transform=ax[0].transAxes, fontsize=10, va='top', ha=\"right\", bbox=dict(boxstyle='round', facecolor='white', alpha=1))\n",
    "### boxplot \n",
    "ax[1].title.set_text('outliers (log scale)')\n",
    "tmp_dtf = pd.DataFrame(new['play_duration'])\n",
    "tmp_dtf['play_duration'] = np.log(tmp_dtf['play_duration'])\n",
    "tmp_dtf.boxplot(column=x, ax=ax[1])\n",
    "plt.show()"
   ]
  },
  {
   "cell_type": "markdown",
   "metadata": {},
   "source": [
    "Still very much outlier therefore we need to delete the higher outlier to produce more reliable data"
   ]
  },
  {
   "cell_type": "code",
   "execution_count": 94,
   "metadata": {},
   "outputs": [
    {
     "data": {
      "text/html": [
       "<div>\n",
       "<style scoped>\n",
       "    .dataframe tbody tr th:only-of-type {\n",
       "        vertical-align: middle;\n",
       "    }\n",
       "\n",
       "    .dataframe tbody tr th {\n",
       "        vertical-align: top;\n",
       "    }\n",
       "\n",
       "    .dataframe thead th {\n",
       "        text-align: right;\n",
       "    }\n",
       "</style>\n",
       "<table border=\"1\" class=\"dataframe\">\n",
       "  <thead>\n",
       "    <tr style=\"text-align: right;\">\n",
       "      <th></th>\n",
       "      <th>play_duration</th>\n",
       "      <th>view_time</th>\n",
       "      <th>category_code</th>\n",
       "      <th>label</th>\n",
       "    </tr>\n",
       "  </thead>\n",
       "  <tbody>\n",
       "    <tr>\n",
       "      <th>count</th>\n",
       "      <td>220847.000000</td>\n",
       "      <td>220847.000000</td>\n",
       "      <td>220847.000000</td>\n",
       "      <td>220847.000000</td>\n",
       "    </tr>\n",
       "    <tr>\n",
       "      <th>mean</th>\n",
       "      <td>519.978460</td>\n",
       "      <td>9.910504</td>\n",
       "      <td>3.774500</td>\n",
       "      <td>1.585351</td>\n",
       "    </tr>\n",
       "    <tr>\n",
       "      <th>std</th>\n",
       "      <td>1189.212519</td>\n",
       "      <td>6.200300</td>\n",
       "      <td>3.235931</td>\n",
       "      <td>1.522349</td>\n",
       "    </tr>\n",
       "    <tr>\n",
       "      <th>min</th>\n",
       "      <td>31.000000</td>\n",
       "      <td>0.000000</td>\n",
       "      <td>1.000000</td>\n",
       "      <td>0.000000</td>\n",
       "    </tr>\n",
       "    <tr>\n",
       "      <th>25%</th>\n",
       "      <td>48.000000</td>\n",
       "      <td>5.000000</td>\n",
       "      <td>2.000000</td>\n",
       "      <td>0.000000</td>\n",
       "    </tr>\n",
       "    <tr>\n",
       "      <th>50%</th>\n",
       "      <td>69.000000</td>\n",
       "      <td>10.000000</td>\n",
       "      <td>3.000000</td>\n",
       "      <td>1.000000</td>\n",
       "    </tr>\n",
       "    <tr>\n",
       "      <th>75%</th>\n",
       "      <td>150.000000</td>\n",
       "      <td>14.000000</td>\n",
       "      <td>4.000000</td>\n",
       "      <td>3.000000</td>\n",
       "    </tr>\n",
       "    <tr>\n",
       "      <th>max</th>\n",
       "      <td>9971.000000</td>\n",
       "      <td>23.000000</td>\n",
       "      <td>15.000000</td>\n",
       "      <td>4.000000</td>\n",
       "    </tr>\n",
       "  </tbody>\n",
       "</table>\n",
       "</div>"
      ],
      "text/plain": [
       "       play_duration      view_time  category_code          label\n",
       "count  220847.000000  220847.000000  220847.000000  220847.000000\n",
       "mean      519.978460       9.910504       3.774500       1.585351\n",
       "std      1189.212519       6.200300       3.235931       1.522349\n",
       "min        31.000000       0.000000       1.000000       0.000000\n",
       "25%        48.000000       5.000000       2.000000       0.000000\n",
       "50%        69.000000      10.000000       3.000000       1.000000\n",
       "75%       150.000000      14.000000       4.000000       3.000000\n",
       "max      9971.000000      23.000000      15.000000       4.000000"
      ]
     },
     "execution_count": 94,
     "metadata": {},
     "output_type": "execute_result"
    }
   ],
   "source": [
    "#The outlier will be changed to the median. Because the density is right skew\n",
    "new.loc[new['play_duration'] > 10000, 'play_duration'] = 104\n",
    "new.describe()"
   ]
  },
  {
   "cell_type": "code",
   "execution_count": 95,
   "metadata": {
    "scrolled": false
   },
   "outputs": [
    {
     "data": {
      "image/png": "[encoded data removed]",
      "text/plain": [
       "<Figure size 432x288 with 2 Axes>"
      ]
     },
     "metadata": {
      "needs_background": "light"
     },
     "output_type": "display_data"
    }
   ],
   "source": [
    "#Checking the distribution again\n",
    "x=['play_duration']\n",
    "fig, ax = plt.subplots(nrows=1, ncols=2,  sharex=False, sharey=False)\n",
    "fig.suptitle(['play_duration'], fontsize=20)\n",
    "# Distribution of the data\n",
    "ax[0].title.set_text('distribution')\n",
    "variable = new['play_duration'].fillna(new['play_duration'].mean())\n",
    "breaks = np.quantile(variable, q=np.linspace(0, 1, 11))\n",
    "variable = variable[ (variable > breaks[0]) & (variable < \n",
    "                    breaks[10]) ]\n",
    "sns.distplot(variable, hist=True, kde=True, kde_kws={\"shade\": True}, ax=ax[0])\n",
    "des = new['play_duration'].describe()\n",
    "ax[0].axvline(des[\"25%\"], ls='--')\n",
    "ax[0].axvline(des[\"mean\"], ls='--')\n",
    "ax[0].axvline(des[\"75%\"], ls='--')\n",
    "ax[0].grid(True)\n",
    "des = round(des, 2).apply(lambda x: str(x))\n",
    "box = '\\n'.join((\"min: \"+des[\"min\"], \"25%: \"+des[\"25%\"], \"mean: \"+des[\"mean\"], \"75%: \"+des[\"75%\"], \"max: \"+des[\"max\"]))\n",
    "ax[0].text(0.95, 0.95, box, transform=ax[0].transAxes, fontsize=10, va='top', ha=\"right\", bbox=dict(boxstyle='round', facecolor='white', alpha=1))\n",
    "### boxplot \n",
    "ax[1].title.set_text('outliers (log scale)')\n",
    "tmp_dtf = pd.DataFrame(new['play_duration'])\n",
    "tmp_dtf['play_duration'] = np.log(tmp_dtf['play_duration'])\n",
    "tmp_dtf.boxplot(column=x, ax=ax[1])\n",
    "plt.show()"
   ]
  },
  {
   "cell_type": "code",
   "execution_count": 29,
   "metadata": {},
   "outputs": [],
   "source": [
    "import scipy\n",
    "import statsmodels.formula.api as smf\n",
    "import statsmodels.api as sm"
   ]
  },
  {
   "cell_type": "code",
   "execution_count": 96,
   "metadata": {
    "scrolled": true
   },
   "outputs": [
    {
     "name": "stdout",
     "output_type": "stream",
     "text": [
      "Cramer Correlation: 0.05 Significant (p-value:0.0)\n"
     ]
    }
   ],
   "source": [
    "#validating the EDA with chi-square (p-value)\n",
    "x, y = \"view_time\", \"play_duration\"\n",
    "cont_table = pd.crosstab(index=new[x], columns=new[y])\n",
    "chi2_test = scipy.stats.chi2_contingency(cont_table)\n",
    "chi2, p = chi2_test[0], chi2_test[1]\n",
    "n = cont_table.sum().sum()\n",
    "phi2 = chi2/n\n",
    "r,k = cont_table.shape\n",
    "phi2corr = max(0, phi2-((k-1)*(r-1))/(n-1))\n",
    "rcorr = r-((r-1)**2)/(n-1)\n",
    "kcorr = k-((k-1)**2)/(n-1)\n",
    "coeff = np.sqrt(phi2corr/min((kcorr-1), (rcorr-1)))\n",
    "coeff, p = round(coeff, 3), round(p, 3)\n",
    "conclusion = \"Significant\" if p < 0.05 else \"Non-Significant\"\n",
    "print(\"Cramer Correlation:\", coeff, conclusion, \"(p-value:\"+str(p)+\")\")"
   ]
  },
  {
   "cell_type": "markdown",
   "metadata": {},
   "source": [
    "The p-value is 0.0 which is (p<0.05). Therefore the variable view time and play duration are dependants but low corelation. Now we have more reliable data because according to boxplot there is no outliers. The next step we will perform data visualization"
   ]
  },
  {
   "cell_type": "markdown",
   "metadata": {},
   "source": [
    "# Data Visualization"
   ]
  },
  {
   "cell_type": "markdown",
   "metadata": {},
   "source": [
    "Since we only considering bivariate data. Now we are going to visualize the hour it is play duration according to viewing time and the category by group by"
   ]
  },
  {
   "cell_type": "code",
   "execution_count": 97,
   "metadata": {},
   "outputs": [
    {
     "data": {
      "text/html": [
       "<div>\n",
       "<style scoped>\n",
       "    .dataframe tbody tr th:only-of-type {\n",
       "        vertical-align: middle;\n",
       "    }\n",
       "\n",
       "    .dataframe tbody tr th {\n",
       "        vertical-align: top;\n",
       "    }\n",
       "\n",
       "    .dataframe thead th {\n",
       "        text-align: right;\n",
       "    }\n",
       "</style>\n",
       "<table border=\"1\" class=\"dataframe\">\n",
       "  <thead>\n",
       "    <tr style=\"text-align: right;\">\n",
       "      <th></th>\n",
       "      <th>play_duration</th>\n",
       "    </tr>\n",
       "    <tr>\n",
       "      <th>view_time</th>\n",
       "      <th></th>\n",
       "    </tr>\n",
       "  </thead>\n",
       "  <tbody>\n",
       "    <tr>\n",
       "      <th>0</th>\n",
       "      <td>452.311009</td>\n",
       "    </tr>\n",
       "    <tr>\n",
       "      <th>1</th>\n",
       "      <td>491.336275</td>\n",
       "    </tr>\n",
       "    <tr>\n",
       "      <th>2</th>\n",
       "      <td>557.906398</td>\n",
       "    </tr>\n",
       "    <tr>\n",
       "      <th>3</th>\n",
       "      <td>543.348071</td>\n",
       "    </tr>\n",
       "    <tr>\n",
       "      <th>4</th>\n",
       "      <td>575.332824</td>\n",
       "    </tr>\n",
       "  </tbody>\n",
       "</table>\n",
       "</div>"
      ],
      "text/plain": [
       "           play_duration\n",
       "view_time               \n",
       "0             452.311009\n",
       "1             491.336275\n",
       "2             557.906398\n",
       "3             543.348071\n",
       "4             575.332824"
      ]
     },
     "execution_count": 97,
     "metadata": {},
     "output_type": "execute_result"
    }
   ],
   "source": [
    "#grouping by the category\n",
    "g1 = new.groupby('view_time').agg({'play_duration':'mean'}).sort_values(['view_time'], ascending=True)\n",
    "g1.head()"
   ]
  },
  {
   "cell_type": "code",
   "execution_count": 98,
   "metadata": {
    "scrolled": true
   },
   "outputs": [
    {
     "data": {
      "text/plain": [
       "<AxesSubplot:title={'center':'view time vs play duration'}, xlabel='view_time', ylabel='play_durations'>"
      ]
     },
     "execution_count": 98,
     "metadata": {},
     "output_type": "execute_result"
    },
    {
     "data": {
      "image/png": "[encoded data removed]",
      "text/plain": [
       "<Figure size 432x360 with 1 Axes>"
      ]
     },
     "metadata": {
      "needs_background": "light"
     },
     "output_type": "display_data"
    }
   ],
   "source": [
    "#Graphing the view time vs play duration\n",
    "dfg = new.groupby(['view_time'])['play_duration'].mean()\n",
    "\n",
    "dfg.plot(kind='bar', title='view time vs play duration', ylabel='play_durations',\n",
    "         xlabel='view_time', figsize=(6, 5))"
   ]
  },
  {
   "cell_type": "markdown",
   "metadata": {},
   "source": [
    "It looks like the most watching time is at 18.00. the least viewer is at 22.00. The interval of the graph is by 1 hour"
   ]
  },
  {
   "cell_type": "code",
   "execution_count": 99,
   "metadata": {},
   "outputs": [
    {
     "data": {
      "text/plain": [
       "<AxesSubplot:title={'center':'view time vs play duration'}, xlabel='category_code', ylabel='play_durations'>"
      ]
     },
     "execution_count": 99,
     "metadata": {},
     "output_type": "execute_result"
    },
    {
     "data": {
      "image/png": "[encoded data removed]",
      "text/plain": [
       "<Figure size 432x360 with 1 Axes>"
      ]
     },
     "metadata": {
      "needs_background": "light"
     },
     "output_type": "display_data"
    }
   ],
   "source": [
    "#Graphing the category vs play duration\n",
    "dfg = new.groupby(['category_code'])['play_duration'].mean()\n",
    "\n",
    "dfg.plot(kind='bar', title='view time vs play duration', ylabel='play_durations',\n",
    "         xlabel='category_code', figsize=(6, 5))"
   ]
  },
  {
   "cell_type": "markdown",
   "metadata": {},
   "source": [
    "The longest duration of viewer is at category number 5 and 1 which that is people tends to watch Movie and TV show at the longest hour"
   ]
  },
  {
   "cell_type": "code",
   "execution_count": 100,
   "metadata": {
    "scrolled": true
   },
   "outputs": [
    {
     "data": {
      "text/plain": [
       "<AxesSubplot:title={'center':'viewer per time'}, xlabel='view_time', ylabel='viewer'>"
      ]
     },
     "execution_count": 100,
     "metadata": {},
     "output_type": "execute_result"
    },
    {
     "data": {
      "image/png": "[encoded data removed]",
      "text/plain": [
       "<Figure size 432x360 with 1 Axes>"
      ]
     },
     "metadata": {
      "needs_background": "light"
     },
     "output_type": "display_data"
    }
   ],
   "source": [
    "#Graphing the view time vs amount of viewer\n",
    "dft = new.groupby(['view_time'])['play_duration'].count()\n",
    "\n",
    "dft.plot(kind='bar', title='viewer per time', ylabel='viewer',\n",
    "         xlabel='view_time', figsize=(6, 5))"
   ]
  },
  {
   "cell_type": "markdown",
   "metadata": {},
   "source": [
    "According to the graph the most viewer is in 14.00 followed by 07.00 and 15.00"
   ]
  },
  {
   "cell_type": "code",
   "execution_count": 101,
   "metadata": {
    "scrolled": true
   },
   "outputs": [
    {
     "data": {
      "text/plain": [
       "<AxesSubplot:title={'center':'viewer per category'}, xlabel='category_code', ylabel='viewer'>"
      ]
     },
     "execution_count": 101,
     "metadata": {},
     "output_type": "execute_result"
    },
    {
     "data": {
      "image/png": "[encoded data removed]",
      "text/plain": [
       "<Figure size 432x360 with 1 Axes>"
      ]
     },
     "metadata": {
      "needs_background": "light"
     },
     "output_type": "display_data"
    }
   ],
   "source": [
    "#Graphing the category vs amount of viewer\n",
    "dft = new.groupby(['category_code'])['play_duration'].count()\n",
    "\n",
    "dft.plot(kind='bar', title='viewer per category', ylabel='viewer',\n",
    "         xlabel='category_code', figsize=(6, 5))"
   ]
  },
  {
   "cell_type": "markdown",
   "metadata": {},
   "source": [
    "According to the graph the most favorite category is number 2 followed by number 3 which they are News and Entertainment"
   ]
  },
  {
   "cell_type": "code",
   "execution_count": 102,
   "metadata": {},
   "outputs": [
    {
     "data": {
      "text/plain": [
       "<AxesSubplot:ylabel='play_duration'>"
      ]
     },
     "execution_count": 102,
     "metadata": {},
     "output_type": "execute_result"
    },
    {
     "data": {
      "image/png": "[encoded data removed]",
      "text/plain": [
       "<Figure size 720x720 with 1 Axes>"
      ]
     },
     "metadata": {},
     "output_type": "display_data"
    }
   ],
   "source": [
    "pc=new.groupby(\"view_time\")[\"play_duration\"].count().plot.pie(figsize=(10,10),autopct='%1.1f%%')\n",
    "pc"
   ]
  },
  {
   "cell_type": "markdown",
   "metadata": {},
   "source": [
    "according to the piechart the percentage of amount of people watching is relatively same with 6% is the highest percentage"
   ]
  },
  {
   "cell_type": "code",
   "execution_count": 103,
   "metadata": {},
   "outputs": [
    {
     "data": {
      "text/plain": [
       "<AxesSubplot:ylabel='play_duration'>"
      ]
     },
     "execution_count": 103,
     "metadata": {},
     "output_type": "execute_result"
    },
    {
     "data": {
      "image/png": "[encoded data removed]",
      "text/plain": [
       "<Figure size 720x720 with 1 Axes>"
      ]
     },
     "metadata": {},
     "output_type": "display_data"
    }
   ],
   "source": [
    "dc=new.groupby(\"category_code\")[\"play_duration\"].count().plot.pie(figsize=(10,10),autopct='%1.1f%%')\n",
    "dc"
   ]
  },
  {
   "cell_type": "markdown",
   "metadata": {},
   "source": [
    "The favorite category percentage is relatively significant according to people favorite the top 5 including News that cover 32.1%, Entertainment which cover 29% followed by TV show and Sports which cover 9.4% of the total viewers. The least category according to the viewers amount is number 11 which is Education"
   ]
  },
  {
   "cell_type": "markdown",
   "metadata": {},
   "source": [
    "# Machine Learning"
   ]
  },
  {
   "cell_type": "markdown",
   "metadata": {},
   "source": [
    "After doing from preparation to visualization now its proceed to the machine learning. According to the machine learning flow, the data is predicting nor category or numerical therefore we are going to use clustering. The purpose is segmenting based on play duration and category and view time. The modelling that I am going to use is Kmeans. Kmeans is selected to define centrodes that useful for cluster the data. Kmeans is unsupervised machine learning which there is no train or test the data"
   ]
  },
  {
   "cell_type": "markdown",
   "metadata": {},
   "source": [
    "## K Means clustering"
   ]
  },
  {
   "cell_type": "code",
   "execution_count": 104,
   "metadata": {
    "scrolled": true
   },
   "outputs": [
    {
     "data": {
      "image/png": "[encoded data removed]",
      "text/plain": [
       "<Figure size 864x432 with 1 Axes>"
      ]
     },
     "metadata": {
      "needs_background": "light"
     },
     "output_type": "display_data"
    }
   ],
   "source": [
    "#Define the K-means\n",
    "from sklearn.cluster import KMeans\n",
    "wcss = []\n",
    "for k in range(1,11):\n",
    "    kmeans = KMeans(n_clusters=k, init=\"k-means++\")\n",
    "    kmeans.fit(new[['category_code','view_time']])\n",
    "    wcss.append(kmeans.inertia_)\n",
    "plt.figure(figsize=(12,6))    \n",
    "plt.grid()\n",
    "plt.plot(range(1,11),wcss, linewidth=2, color=\"red\", marker =\"8\")\n",
    "plt.xlabel(\"K Value\")\n",
    "plt.xticks(np.arange(1,11,1))\n",
    "plt.ylabel(\"WCSS\")\n",
    "plt.show()"
   ]
  },
  {
   "cell_type": "code",
   "execution_count": null,
   "metadata": {},
   "outputs": [],
   "source": []
  },
  {
   "cell_type": "code",
   "execution_count": 105,
   "metadata": {},
   "outputs": [],
   "source": [
    "km = KMeans(n_clusters=5)\n"
   ]
  },
  {
   "cell_type": "code",
   "execution_count": 106,
   "metadata": {},
   "outputs": [],
   "source": [
    "clusters = km.fit_predict(new.iloc[:,3:])"
   ]
  },
  {
   "cell_type": "code",
   "execution_count": 192,
   "metadata": {},
   "outputs": [],
   "source": [
    "new[\"label\"] = clusters"
   ]
  },
  {
   "cell_type": "code",
   "execution_count": 108,
   "metadata": {},
   "outputs": [
    {
     "data": {
      "image/png": "[encoded data removed]",
      "text/plain": [
       "<Figure size 720x1440 with 1 Axes>"
      ]
     },
     "metadata": {
      "needs_background": "light"
     },
     "output_type": "display_data"
    }
   ],
   "source": [
    "fig = plt.figure(figsize=(10,20))\n",
    "ax = fig.add_subplot(111, projection='3d')\n",
    "ax.scatter(new.category_code[new.label == 0],new[\"view_time\"][new.label == 0], new[\"play_duration\"][new.label == 0], c='blue', s=60)\n",
    "ax.scatter(new.category_code[new.label == 1],new[\"view_time\"][new.label == 1], new[\"play_duration\"][new.label == 1],  c='red', s=60)\n",
    "ax.scatter(new.category_code[new.label == 2],new[\"view_time\"][new.label == 2], new[\"play_duration\"][new.label == 2],  c='green', s=60)\n",
    "ax.scatter(new.category_code[new.label == 3],new[\"view_time\"][new.label == 3], new[\"play_duration\"][new.label == 3],  c='pink', s=60)\n",
    "ax.scatter(new.category_code[new.label == 4],new[\"view_time\"][new.label == 4], new[\"play_duration\"][new.label == 4],  c='yellow', s=60)\n",
    "ax.view_init(30, 185)\n",
    "plt.xlabel(\"category\")\n",
    "plt.ylabel(\"view_time\")\n",
    "ax.set_zlabel('play duration count')\n",
    "plt.show()"
   ]
  },
  {
   "cell_type": "markdown",
   "metadata": {},
   "source": [
    "There are clears that the K means has divided into the 5 centrodes. The constelations are :\n",
    "green = view time(18.00-23.00), 1-15 category\n",
    "Blue = view time(11.00-17.00), 1-15 category\n",
    "Red = view time(05.00-10.00), 1 -15 category\n",
    "yellow = view time(00.00-04.00), 1- 15 category\n",
    "pink = view time(00.00-20.00), category number 15\n",
    "However the size of the data is very high >100K. Therefore we can try the K means mini batch clustering to validating the Kmeans and clustering more"
   ]
  },
  {
   "cell_type": "markdown",
   "metadata": {},
   "source": [
    "## Mini Batch K-means Clustering"
   ]
  },
  {
   "cell_type": "markdown",
   "metadata": {},
   "source": [
    "Since the Kmeans clustering returns very crowded scatter and it is hard to determine, I consider to try with Mini Batch Clustering. Mini batch K-means clustering is a clustering method with K-means which the data iterated into minimum sample regardless of its variances. "
   ]
  },
  {
   "cell_type": "code",
   "execution_count": 181,
   "metadata": {
    "scrolled": true
   },
   "outputs": [],
   "source": [
    "# Change the dataset into numpy\n",
    "cat = new.to_numpy()"
   ]
  },
  {
   "cell_type": "code",
   "execution_count": 182,
   "metadata": {},
   "outputs": [
    {
     "data": {
      "text/plain": [
       "array([[1263,   12,    1],\n",
       "       [  53,    6,    2],\n",
       "       [  53,    1,    2],\n",
       "       ...,\n",
       "       [  51,   23,    2],\n",
       "       [  38,   10,    2],\n",
       "       [  43,    1,    3]], dtype=int64)"
      ]
     },
     "execution_count": 182,
     "metadata": {},
     "output_type": "execute_result"
    }
   ],
   "source": [
    "cat"
   ]
  },
  {
   "cell_type": "code",
   "execution_count": 249,
   "metadata": {},
   "outputs": [],
   "source": [
    "# Applying Kmeans to the mini batch\n",
    "model = MiniBatchKMeans(n_clusters=5)"
   ]
  },
  {
   "cell_type": "markdown",
   "metadata": {},
   "source": [
    "The clusters is 5 which gathered from the elbow K-means which returns the amount of Kmeans is 5"
   ]
  },
  {
   "cell_type": "code",
   "execution_count": 250,
   "metadata": {
    "scrolled": true
   },
   "outputs": [
    {
     "data": {
      "text/plain": [
       "MiniBatchKMeans(n_clusters=5)"
      ]
     },
     "execution_count": 250,
     "metadata": {},
     "output_type": "execute_result"
    }
   ],
   "source": [
    "# Fit the model\n",
    "model.fit(cat)"
   ]
  },
  {
   "cell_type": "code",
   "execution_count": 251,
   "metadata": {},
   "outputs": [],
   "source": [
    "# Define the model\n",
    "yhat = model.predict(cat)"
   ]
  },
  {
   "cell_type": "code",
   "execution_count": 252,
   "metadata": {
    "scrolled": true
   },
   "outputs": [],
   "source": [
    "clusters = unique(yhat)"
   ]
  },
  {
   "cell_type": "code",
   "execution_count": 266,
   "metadata": {
    "scrolled": true
   },
   "outputs": [
    {
     "data": {
      "image/png": "[encoded data removed]",
      "text/plain": [
       "<Figure size 432x288 with 1 Axes>"
      ]
     },
     "metadata": {},
     "output_type": "display_data"
    }
   ],
   "source": [
    "# Plotting the cluster\n",
    "for cluster in clusters:\n",
    "# get row indexes for samples with this cluster\n",
    "    row_ix = where(yhat == cluster)\n",
    "# create scatter of these samples\n",
    "    pyplot.scatter( cat[row_ix, 1], cat[row_ix, 0])\n",
    "# show the plot\n",
    "pyplot.show()"
   ]
  },
  {
   "cell_type": "markdown",
   "metadata": {},
   "source": [
    "The plot shown relation between X= view hour, Y = Playing duration. According to the plot, It is only clustered with Y Axis. The explanation of the results is shown below:\n",
    "- Blue = approximately clustered the duration below 600 seconds\n",
    "- Yellow = approximately clustered the duration between 601 to 2000 seconds\n",
    "- Green = approximately clustered the duration between 2001 to 3600 seconds\n",
    "- Red = approximately clustered the duration between 3601 to 4500 seconds\n",
    "- Grey = approximately clustered the duration above 4500 seconds"
   ]
  },
  {
   "cell_type": "code",
   "execution_count": 271,
   "metadata": {
    "scrolled": true
   },
   "outputs": [
    {
     "data": {
      "image/png": "[encoded data removed]",
      "text/plain": [
       "<Figure size 432x288 with 1 Axes>"
      ]
     },
     "metadata": {},
     "output_type": "display_data"
    }
   ],
   "source": [
    "for cluster in clusters:\n",
    "# get row indexes for samples with this cluster\n",
    "    row_ix = where(yhat == cluster)\n",
    "# create scatter of these samples\n",
    "    pyplot.scatter( cat[row_ix, 2], cat[row_ix, 0])\n",
    "# show the plot\n",
    "pyplot.show()"
   ]
  },
  {
   "cell_type": "markdown",
   "metadata": {},
   "source": [
    "The plot shown relation between X= category, Y = Playing duration. According to the plot, It is only clustered with Y Axis. The explanation of the results is shown below:\n",
    "- Blue = approximately clustered the duration below 600 seconds\n",
    "- Yellow = approximately clustered the duration between 601 to 2000 seconds\n",
    "- Green = approximately clustered the duration between 2001 to 3600 seconds\n",
    "- Red = approximately clustered the duration between 3601 to 4500 seconds\n",
    "- Grey = approximately clustered the duration above 4500 seconds\n",
    "\n",
    "The clustering only based on Y axis however the plot that uniformly formed we can consider the most popular category is number 15 which is Music that can be clustered in all plot\n",
    "\n",
    "Number 13 and 14 which is Education and Webtoon is the least popular and no one will watch above 2000 seconds"
   ]
  },
  {
   "cell_type": "markdown",
   "metadata": {},
   "source": [
    "# Conclusion"
   ]
  },
  {
   "cell_type": "markdown",
   "metadata": {},
   "source": [
    "   The Data that is predicted is between categorical and numerical which are not encoded with specific series. It is clear that the machine learning that is going to use is Clustering. According to the visualization the most watcher is at 18.00 and the most watched category is News. However according to the play duration Music is the most viable on the data. The data is limited to maximum 10000 seconds to minimize the noise of the data because we are only clustering to determine the viewer amount per view time and category. When I am using the Kmeans the data is really crowded and cannot be interpreted clearly, therefore I have used Minibatch K means which is effective for data above 100K elements"
   ]
  },
  {
   "cell_type": "code",
   "execution_count": null,
   "metadata": {},
   "outputs": [],
   "source": []
  }
 ],
 "metadata": {
  "kernelspec": {
   "display_name": "Python 3",
   "language": "python",
   "name": "python3"
  },
  "language_info": {
   "codemirror_mode": {
    "name": "ipython",
    "version": 3
   },
   "file_extension": ".py",
   "mimetype": "text/x-python",
   "name": "python",
   "nbconvert_exporter": "python",
   "pygments_lexer": "ipython3",
   "version": "3.8.5"
  }
 },
 "nbformat": 4,
 "nbformat_minor": 4
}
