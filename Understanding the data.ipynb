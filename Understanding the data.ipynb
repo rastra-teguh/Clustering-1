{
 "cells": [
  {
   "cell_type": "markdown",
   "metadata": {},
   "source": [
    "# Understanding the Data"
   ]
  },
  {
   "cell_type": "markdown",
   "metadata": {},
   "source": [
    "I am going to utilize machine learning into a Vidio data. The data consists 40 indexes. The amount of total elements are 742582. The dataset that I am using is from Vidio sample dataset. The process that I am going to apply is from cleansing until applying machine learning. The main purpose of the Data is for considering the viewer contents. "
   ]
  },
  {
   "cell_type": "code",
   "execution_count": 6,
   "metadata": {},
   "outputs": [
    {
     "name": "stdout",
     "output_type": "stream",
     "text": [
      "Collecting shutupNote: you may need to restart the kernel to use updated packages.\n",
      "\n",
      "  Downloading shutup-0.1.3-py3-none-any.whl (1.3 kB)\n",
      "Installing collected packages: shutup\n",
      "Successfully installed shutup-0.1.3\n"
     ]
    }
   ],
   "source": [
    "pip install shutup"
   ]
  },
  {
   "cell_type": "code",
   "execution_count": 7,
   "metadata": {},
   "outputs": [],
   "source": [
    "# First of all import all the packages that I need \n",
    "import numpy as np\n",
    "import pandas as pd\n",
    "import matplotlib.pyplot as plt\n",
    "import seaborn as sns\n",
    "import warnings\n",
    "warnings.filterwarnings(\"ignore\")\n",
    "import shutup; shutup.please()"
   ]
  },
  {
   "cell_type": "code",
   "execution_count": 8,
   "metadata": {},
   "outputs": [
    {
     "name": "stderr",
     "output_type": "stream",
     "text": [
      "b'Skipping line 7655: expected 41 fields, saw 42\\n'\n",
      "b'Skipping line 28027: expected 41 fields, saw 49\\nSkipping line 29868: expected 41 fields, saw 42\\n'\n",
      "b'Skipping line 41317: expected 41 fields, saw 49\\n'\n",
      "b'Skipping line 50334: expected 41 fields, saw 42\\nSkipping line 57183: expected 41 fields, saw 42\\nSkipping line 61465: expected 41 fields, saw 49\\n'\n",
      "b'Skipping line 68522: expected 41 fields, saw 49\\nSkipping line 74582: expected 41 fields, saw 42\\n'\n",
      "b'Skipping line 83509: expected 41 fields, saw 42\\nSkipping line 94944: expected 41 fields, saw 42\\n'\n",
      "b'Skipping line 130829: expected 41 fields, saw 42\\n'\n",
      "b'Skipping line 163627: expected 41 fields, saw 42\\n'\n",
      "b'Skipping line 185137: expected 41 fields, saw 42\\n'\n",
      "b'Skipping line 197897: expected 41 fields, saw 42\\nSkipping line 206057: expected 41 fields, saw 42\\n'\n",
      "b'Skipping line 213623: expected 41 fields, saw 42\\nSkipping line 216084: expected 41 fields, saw 42\\nSkipping line 227679: expected 41 fields, saw 49\\n'\n",
      "b'Skipping line 251548: expected 41 fields, saw 42\\nSkipping line 261391: expected 41 fields, saw 42\\nSkipping line 262030: expected 41 fields, saw 42\\n'\n",
      "b'Skipping line 264908: expected 41 fields, saw 42\\n'\n",
      "b'Skipping line 287859: expected 41 fields, saw 42\\n'\n",
      "b'Skipping line 299433: expected 41 fields, saw 42\\n'\n",
      "b'Skipping line 311877: expected 41 fields, saw 42\\nSkipping line 313477: expected 41 fields, saw 42\\nSkipping line 322023: expected 41 fields, saw 42\\nSkipping line 324768: expected 41 fields, saw 42\\n'\n",
      "b'Skipping line 337682: expected 41 fields, saw 42\\nSkipping line 338488: expected 41 fields, saw 42\\nSkipping line 339520: expected 41 fields, saw 42\\n'\n",
      "b'Skipping line 349423: expected 41 fields, saw 42\\n'\n",
      "b'Skipping line 369734: expected 41 fields, saw 49\\n'\n",
      "b'Skipping line 378702: expected 41 fields, saw 45\\n'\n",
      "b'Skipping line 418657: expected 41 fields, saw 49\\n'\n",
      "b'Skipping line 449543: expected 41 fields, saw 42\\n'\n",
      "b'Skipping line 461649: expected 41 fields, saw 49\\nSkipping line 466375: expected 41 fields, saw 49\\nSkipping line 473517: expected 41 fields, saw 49\\n'\n",
      "b'Skipping line 475529: expected 41 fields, saw 49\\n'\n",
      "b'Skipping line 492187: expected 41 fields, saw 42\\nSkipping line 496866: expected 41 fields, saw 42\\n'\n",
      "b'Skipping line 534249: expected 41 fields, saw 42\\nSkipping line 539042: expected 41 fields, saw 49\\n'\n",
      "b'Skipping line 562932: expected 41 fields, saw 42\\nSkipping line 563198: expected 41 fields, saw 42\\nSkipping line 566240: expected 41 fields, saw 49\\nSkipping line 571182: expected 41 fields, saw 42\\n'\n",
      "b'Skipping line 583341: expected 41 fields, saw 42\\nSkipping line 588749: expected 41 fields, saw 42\\n'\n",
      "b'Skipping line 591549: expected 41 fields, saw 42\\nSkipping line 591893: expected 41 fields, saw 49\\nSkipping line 595608: expected 41 fields, saw 42\\nSkipping line 596193: expected 41 fields, saw 42\\nSkipping line 596194: expected 41 fields, saw 42\\nSkipping line 601182: expected 41 fields, saw 57\\n'\n",
      "b'Skipping line 623671: expected 41 fields, saw 42\\nSkipping line 625063: expected 41 fields, saw 42\\nSkipping line 633708: expected 41 fields, saw 42\\nSkipping line 636424: expected 41 fields, saw 42\\n'\n",
      "b'Skipping line 642211: expected 41 fields, saw 42\\nSkipping line 644971: expected 41 fields, saw 42\\nSkipping line 649294: expected 41 fields, saw 42\\n'\n",
      "b'Skipping line 662233: expected 41 fields, saw 43\\n'\n",
      "b'Skipping line 688315: expected 41 fields, saw 42\\nSkipping line 697611: expected 41 fields, saw 42\\nSkipping line 700575: expected 41 fields, saw 42\\nSkipping line 702178: expected 41 fields, saw 49\\n'\n",
      "b'Skipping line 705345: expected 41 fields, saw 42\\n'\n"
     ]
    }
   ],
   "source": [
    "# Next step is uploading the dataset\n",
    "df= pd.read_csv('C:/Users/Lenovo/Music/vidio/sample.csv', sep= ',',error_bad_lines=False)"
   ]
  },
  {
   "cell_type": "code",
   "execution_count": 10,
   "metadata": {},
   "outputs": [
    {
     "data": {
      "text/html": [
       "<div>\n",
       "<style scoped>\n",
       "    .dataframe tbody tr th:only-of-type {\n",
       "        vertical-align: middle;\n",
       "    }\n",
       "\n",
       "    .dataframe tbody tr th {\n",
       "        vertical-align: top;\n",
       "    }\n",
       "\n",
       "    .dataframe thead th {\n",
       "        text-align: right;\n",
       "    }\n",
       "</style>\n",
       "<table border=\"1\" class=\"dataframe\">\n",
       "  <thead>\n",
       "    <tr style=\"text-align: right;\">\n",
       "      <th></th>\n",
       "      <th>hash_content_id</th>\n",
       "      <th>hash_play_id</th>\n",
       "      <th>hash_visit_id</th>\n",
       "      <th>hash_watcher_id</th>\n",
       "      <th>hash_film_id</th>\n",
       "      <th>hash_event_id</th>\n",
       "      <th>is_login</th>\n",
       "      <th>playback_location</th>\n",
       "      <th>platform</th>\n",
       "      <th>play_time</th>\n",
       "      <th>...</th>\n",
       "      <th>app_version</th>\n",
       "      <th>city</th>\n",
       "      <th>play_duration</th>\n",
       "      <th>content_type</th>\n",
       "      <th>stream_type</th>\n",
       "      <th>title</th>\n",
       "      <th>category_name</th>\n",
       "      <th>film_title</th>\n",
       "      <th>season_name</th>\n",
       "      <th>genre_name</th>\n",
       "    </tr>\n",
       "  </thead>\n",
       "  <tbody>\n",
       "    <tr>\n",
       "      <th>0</th>\n",
       "      <td>003f6dad4ab48a4e39ea262b19e3b42a4b53c2175078b3...</td>\n",
       "      <td>515dd4d7af23ae9ef5a2455bc97ee765fe86224ebaca71...</td>\n",
       "      <td>ed8d97adbba52562575973553003d9a13b103bc4693a6c...</td>\n",
       "      <td>3ba64f349972d4c7c05eb08e6b91db156a91af555ded6f...</td>\n",
       "      <td>NaN</td>\n",
       "      <td>175c473e6bbf67c337bdbd14c9dbdf01c627bfe5af17c1...</td>\n",
       "      <td>True</td>\n",
       "      <td>direct</td>\n",
       "      <td>tv-android</td>\n",
       "      <td>2020-02-15T12:07:00.000Z</td>\n",
       "      <td>...</td>\n",
       "      <td>1.11.0 (50)</td>\n",
       "      <td>NaN</td>\n",
       "      <td>1263</td>\n",
       "      <td>vod</td>\n",
       "      <td>NaN</td>\n",
       "      <td>FTV SCTV - Kecubit Cinta Sahabat Chantiq</td>\n",
       "      <td>Movies</td>\n",
       "      <td>NaN</td>\n",
       "      <td>NaN</td>\n",
       "      <td>NaN</td>\n",
       "    </tr>\n",
       "    <tr>\n",
       "      <th>1</th>\n",
       "      <td>0079c67ae8c7f6cbd44768f1988196c137326f3058d995...</td>\n",
       "      <td>047f7b21bcb1a57119229958b11abe364ce1a279f8ae00...</td>\n",
       "      <td>88a404df574ba3c637bb99e94a2e51b16114f5da6f99cd...</td>\n",
       "      <td>36fd7b04f88ef3d6f16326ae4a39fcf2e4b1dec052919c...</td>\n",
       "      <td>NaN</td>\n",
       "      <td>6f8d1372d0128e141c7ef87649d9ec46328d327c2a21d4...</td>\n",
       "      <td>False</td>\n",
       "      <td>embed</td>\n",
       "      <td>web-mobile</td>\n",
       "      <td>2020-02-14T18:37:52.000Z</td>\n",
       "      <td>...</td>\n",
       "      <td>NaN</td>\n",
       "      <td>NaN</td>\n",
       "      <td>0</td>\n",
       "      <td>vod</td>\n",
       "      <td>NaN</td>\n",
       "      <td>Viral Seorang Siswi Dibully di Kelas, Gubernur...</td>\n",
       "      <td>News</td>\n",
       "      <td>NaN</td>\n",
       "      <td>NaN</td>\n",
       "      <td>NaN</td>\n",
       "    </tr>\n",
       "    <tr>\n",
       "      <th>2</th>\n",
       "      <td>0079c67ae8c7f6cbd44768f1988196c137326f3058d995...</td>\n",
       "      <td>2623b2970635a15f1cf12bf9aa1e4d545135593e6a860c...</td>\n",
       "      <td>24abc04f114c9cb0c2087568093a909f04b3a567041fff...</td>\n",
       "      <td>4906987a7a6c3e27895e1adfd200d38e4f4fd87eb9ce96...</td>\n",
       "      <td>NaN</td>\n",
       "      <td>e73122fb4da263f0825c2ae5ac5c5a18da3a45c44b49e6...</td>\n",
       "      <td>False</td>\n",
       "      <td>embed</td>\n",
       "      <td>web-mobile</td>\n",
       "      <td>2020-02-15T11:58:24.000Z</td>\n",
       "      <td>...</td>\n",
       "      <td>NaN</td>\n",
       "      <td>NaN</td>\n",
       "      <td>8</td>\n",
       "      <td>vod</td>\n",
       "      <td>NaN</td>\n",
       "      <td>Viral Seorang Siswi Dibully di Kelas, Gubernur...</td>\n",
       "      <td>News</td>\n",
       "      <td>NaN</td>\n",
       "      <td>NaN</td>\n",
       "      <td>NaN</td>\n",
       "    </tr>\n",
       "  </tbody>\n",
       "</table>\n",
       "<p>3 rows × 41 columns</p>\n",
       "</div>"
      ],
      "text/plain": [
       "                                     hash_content_id  \\\n",
       "0  003f6dad4ab48a4e39ea262b19e3b42a4b53c2175078b3...   \n",
       "1  0079c67ae8c7f6cbd44768f1988196c137326f3058d995...   \n",
       "2  0079c67ae8c7f6cbd44768f1988196c137326f3058d995...   \n",
       "\n",
       "                                        hash_play_id  \\\n",
       "0  515dd4d7af23ae9ef5a2455bc97ee765fe86224ebaca71...   \n",
       "1  047f7b21bcb1a57119229958b11abe364ce1a279f8ae00...   \n",
       "2  2623b2970635a15f1cf12bf9aa1e4d545135593e6a860c...   \n",
       "\n",
       "                                       hash_visit_id  \\\n",
       "0  ed8d97adbba52562575973553003d9a13b103bc4693a6c...   \n",
       "1  88a404df574ba3c637bb99e94a2e51b16114f5da6f99cd...   \n",
       "2  24abc04f114c9cb0c2087568093a909f04b3a567041fff...   \n",
       "\n",
       "                                     hash_watcher_id hash_film_id  \\\n",
       "0  3ba64f349972d4c7c05eb08e6b91db156a91af555ded6f...          NaN   \n",
       "1  36fd7b04f88ef3d6f16326ae4a39fcf2e4b1dec052919c...          NaN   \n",
       "2  4906987a7a6c3e27895e1adfd200d38e4f4fd87eb9ce96...          NaN   \n",
       "\n",
       "                                       hash_event_id  is_login  \\\n",
       "0  175c473e6bbf67c337bdbd14c9dbdf01c627bfe5af17c1...      True   \n",
       "1  6f8d1372d0128e141c7ef87649d9ec46328d327c2a21d4...     False   \n",
       "2  e73122fb4da263f0825c2ae5ac5c5a18da3a45c44b49e6...     False   \n",
       "\n",
       "  playback_location    platform                 play_time  ...  app_version  \\\n",
       "0            direct  tv-android  2020-02-15T12:07:00.000Z  ...  1.11.0 (50)   \n",
       "1             embed  web-mobile  2020-02-14T18:37:52.000Z  ...          NaN   \n",
       "2             embed  web-mobile  2020-02-15T11:58:24.000Z  ...          NaN   \n",
       "\n",
       "  city  play_duration content_type  stream_type  \\\n",
       "0  NaN           1263          vod          NaN   \n",
       "1  NaN              0          vod          NaN   \n",
       "2  NaN              8          vod          NaN   \n",
       "\n",
       "                                               title category_name film_title  \\\n",
       "0           FTV SCTV - Kecubit Cinta Sahabat Chantiq        Movies        NaN   \n",
       "1  Viral Seorang Siswi Dibully di Kelas, Gubernur...          News        NaN   \n",
       "2  Viral Seorang Siswi Dibully di Kelas, Gubernur...          News        NaN   \n",
       "\n",
       "  season_name genre_name  \n",
       "0         NaN        NaN  \n",
       "1         NaN        NaN  \n",
       "2         NaN        NaN  \n",
       "\n",
       "[3 rows x 41 columns]"
      ]
     },
     "execution_count": 10,
     "metadata": {},
     "output_type": "execute_result"
    }
   ],
   "source": [
    "df.head(3)"
   ]
  },
  {
   "cell_type": "markdown",
   "metadata": {},
   "source": [
    "The dataset consists of 41 columns. Each row consists specific content_id. Befor going to the cleansing I will consisder which parameter is going to be predicted. The first of all I have to consider wether it is cateogircal or numerical"
   ]
  },
  {
   "cell_type": "code",
   "execution_count": 16,
   "metadata": {},
   "outputs": [
    {
     "data": {
      "text/plain": [
       "{'hash_content_id': 'cat',\n",
       " 'hash_play_id': 'cat',\n",
       " 'hash_visit_id': 'cat',\n",
       " 'hash_watcher_id': 'cat',\n",
       " 'hash_film_id': 'cat',\n",
       " 'hash_event_id': 'cat',\n",
       " 'is_login': 'cat',\n",
       " 'playback_location': 'cat',\n",
       " 'platform': 'cat',\n",
       " 'play_time': 'cat',\n",
       " 'end_time': 'cat',\n",
       " 'referrer': 'cat',\n",
       " 'average_bitrate': 'num',\n",
       " 'bitrate_range': 'cat',\n",
       " 'total_bytes': 'num',\n",
       " 'buffer_duration': 'num',\n",
       " 'referrer_group': 'cat',\n",
       " 'completed': 'cat',\n",
       " 'utm_source': 'cat',\n",
       " 'utm_medium': 'cat',\n",
       " 'utm_campaign': 'cat',\n",
       " 'player_name': 'cat',\n",
       " 'has_ad': 'cat',\n",
       " 'flash_version': 'cat',\n",
       " 'os_name': 'cat',\n",
       " 'os_version': 'cat',\n",
       " 'browser_name': 'cat',\n",
       " 'browser_version': 'cat',\n",
       " 'app_name': 'cat',\n",
       " 'autoplay': 'cat',\n",
       " 'is_premium': 'cat',\n",
       " 'app_version': 'cat',\n",
       " 'city': 'cat',\n",
       " 'play_duration': 'num',\n",
       " 'content_type': 'cat',\n",
       " 'stream_type': 'cat',\n",
       " 'title': 'cat',\n",
       " 'category_name': 'cat',\n",
       " 'film_title': 'cat',\n",
       " 'season_name': 'cat',\n",
       " 'genre_name': 'cat'}"
      ]
     },
     "execution_count": 16,
     "metadata": {},
     "output_type": "execute_result"
    }
   ],
   "source": [
    "def utils_recognize_type(df, col, max_cat=20):\n",
    "    if (df[col].dtype == \"O\") | (df[col].nunique() < max_cat):\n",
    "        return \"cat\"\n",
    "    else:\n",
    "        return \"num\"\n",
    "dic_cols = {col:utils_recognize_type(df, col, max_cat=20) for col in df.columns}\n",
    "dic_cols"
   ]
  },
  {
   "cell_type": "markdown",
   "metadata": {},
   "source": [
    "In the function I can determine wether it is categorical or numerical data. The purpose is considering which data type is going to be modelled."
   ]
  },
  {
   "cell_type": "code",
   "execution_count": 17,
   "metadata": {},
   "outputs": [
    {
     "data": {
      "image/png": "[encoded data removed]",
      "text/plain": [
       "<Figure size 432x288 with 1 Axes>"
      ]
     },
     "metadata": {
      "needs_background": "light"
     },
     "output_type": "display_data"
    },
    {
     "name": "stdout",
     "output_type": "stream",
     "text": [
      "\u001b[1;37;40m Categerocial  \u001b[1;30;41m Numeric  \u001b[1;30;47m NaN \n"
     ]
    }
   ],
   "source": [
    "heatmap = df.isnull()\n",
    "for k,v in dic_cols.items():\n",
    "    if v == \"num\":\n",
    "       heatmap[k] = heatmap[k].apply(lambda x: 0.5 if x is False else 1)\n",
    "    else:\n",
    "       heatmap[k] = heatmap[k].apply(lambda x: 0 if x is False else 1)\n",
    "sns.heatmap(heatmap, cbar=False).set_title('Dataset Overview')\n",
    "plt.show()\n",
    "print(\"\\033[1;37;40m Categerocial \", \"\\033[1;30;41m Numeric \", \"\\033[1;30;47m NaN \")"
   ]
  },
  {
   "cell_type": "markdown",
   "metadata": {},
   "source": [
    "From the data, We already check the categorical and numeric aspect in the Dataset. We also detects there are NaN values in the data. The next step is cleansing the data and consider which data is going to used. In the dataset I consider to go with view times, content_type and play_duration"
   ]
  },
  {
   "cell_type": "code",
   "execution_count": null,
   "metadata": {},
   "outputs": [],
   "source": []
  }
 ],
 "metadata": {
  "kernelspec": {
   "display_name": "Python 3",
   "language": "python",
   "name": "python3"
  },
  "language_info": {
   "codemirror_mode": {
    "name": "ipython",
    "version": 3
   },
   "file_extension": ".py",
   "mimetype": "text/x-python",
   "name": "python",
   "nbconvert_exporter": "python",
   "pygments_lexer": "ipython3",
   "version": "3.8.5"
  }
 },
 "nbformat": 4,
 "nbformat_minor": 4
}
